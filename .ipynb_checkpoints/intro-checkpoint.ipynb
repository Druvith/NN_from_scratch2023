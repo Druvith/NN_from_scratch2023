{
 "cells": [
  {
   "cell_type": "code",
   "execution_count": 1,
   "id": "d98970e7-8bc0-4515-849a-c67f777fe444",
   "metadata": {},
   "outputs": [],
   "source": [
    "import torch\n"
   ]
  },
  {
   "cell_type": "code",
   "execution_count": 2,
   "id": "808af327-4b4f-44eb-a356-b8b3cd80ae4d",
   "metadata": {},
   "outputs": [
    {
     "data": {
      "text/plain": [
       "tensor([ 0.,  1.,  2.,  3.,  4.,  5.,  6.,  7.,  8.,  9., 10., 11.])"
      ]
     },
     "execution_count": 2,
     "metadata": {},
     "output_type": "execute_result"
    }
   ],
   "source": [
    "#one_axis:vector\n",
    "#two_axis:matrix\n",
    "x = torch.arange(12, dtype=torch.float32)\n",
    "x"
   ]
  },
  {
   "cell_type": "code",
   "execution_count": 3,
   "id": "d54b9e8c-abac-4e46-afa5-e0b60a9913e3",
   "metadata": {},
   "outputs": [
    {
     "data": {
      "text/plain": [
       "torch.Size([12])"
      ]
     },
     "execution_count": 3,
     "metadata": {},
     "output_type": "execute_result"
    }
   ],
   "source": [
    "x.numel()\n",
    "x.shape"
   ]
  },
  {
   "cell_type": "code",
   "execution_count": 4,
   "id": "cabe3f4c-acee-4a06-b483-c11219681756",
   "metadata": {},
   "outputs": [
    {
     "data": {
      "text/plain": [
       "tensor([[ 0.,  1.,  2.],\n",
       "        [ 3.,  4.,  5.],\n",
       "        [ 6.,  7.,  8.],\n",
       "        [ 9., 10., 11.]])"
      ]
     },
     "execution_count": 4,
     "metadata": {},
     "output_type": "execute_result"
    }
   ],
   "source": [
    "X = x.reshape(4,3)\n",
    "X"
   ]
  },
  {
   "cell_type": "code",
   "execution_count": 5,
   "id": "944362d5-193b-4f4d-b8b0-31e973d1288c",
   "metadata": {},
   "outputs": [
    {
     "data": {
      "text/plain": [
       "tensor([[ 0.,  1.,  2.],\n",
       "        [ 3.,  4.,  5.],\n",
       "        [ 6.,  7.,  8.],\n",
       "        [ 9., 10., 11.]])"
      ]
     },
     "execution_count": 5,
     "metadata": {},
     "output_type": "execute_result"
    }
   ],
   "source": [
    "#OR\n",
    "X = x.reshape(-1,3)\n",
    "X"
   ]
  },
  {
   "cell_type": "code",
   "execution_count": 6,
   "id": "c319263f-6ab7-44d2-8da1-d90f0086d460",
   "metadata": {},
   "outputs": [
    {
     "data": {
      "text/plain": [
       "tensor([[[1., 1., 1., 1.],\n",
       "         [1., 1., 1., 1.],\n",
       "         [1., 1., 1., 1.]],\n",
       "\n",
       "        [[1., 1., 1., 1.],\n",
       "         [1., 1., 1., 1.],\n",
       "         [1., 1., 1., 1.]]])"
      ]
     },
     "execution_count": 6,
     "metadata": {},
     "output_type": "execute_result"
    }
   ],
   "source": [
    "torch.ones((2,3,4))"
   ]
  },
  {
   "cell_type": "code",
   "execution_count": 7,
   "id": "ed4e7930-e014-4f6a-86ce-4ad888ae0933",
   "metadata": {},
   "outputs": [
    {
     "data": {
      "text/plain": [
       "tensor([[2, 1, 4, 3],\n",
       "        [1, 2, 3, 4],\n",
       "        [4, 3, 2, 1]])"
      ]
     },
     "execution_count": 7,
     "metadata": {},
     "output_type": "execute_result"
    }
   ],
   "source": [
    "torch.tensor([[2, 1, 4, 3], [1, 2, 3, 4], [4, 3, 2, 1]])"
   ]
  },
  {
   "cell_type": "code",
   "execution_count": 8,
   "id": "fb8853e7-ab44-4f77-a827-513a385269e5",
   "metadata": {},
   "outputs": [
    {
     "data": {
      "text/plain": [
       "(tensor([ 9., 10., 11.]),\n",
       " tensor([[0., 1., 2.],\n",
       "         [3., 4., 5.],\n",
       "         [6., 7., 8.]]))"
      ]
     },
     "execution_count": 8,
     "metadata": {},
     "output_type": "execute_result"
    }
   ],
   "source": [
    "X[-1], X[0:3]"
   ]
  },
  {
   "cell_type": "code",
   "execution_count": 9,
   "id": "0a5c25a3-ce13-4713-886a-d15c5be9a713",
   "metadata": {},
   "outputs": [
    {
     "data": {
      "text/plain": [
       "tensor([[ 0.,  1.,  2.],\n",
       "        [ 3.,  4.,  5.],\n",
       "        [ 6.,  7.,  8.],\n",
       "        [ 9., 10.,  0.]])"
      ]
     },
     "execution_count": 9,
     "metadata": {},
     "output_type": "execute_result"
    }
   ],
   "source": [
    "X[-1,2] = 0\n",
    "X"
   ]
  },
  {
   "cell_type": "code",
   "execution_count": 10,
   "id": "88add4db-4d70-446b-8475-b3c6f19ce640",
   "metadata": {},
   "outputs": [
    {
     "data": {
      "text/plain": [
       "tensor([[12., 12., 12.],\n",
       "        [12., 12., 12.],\n",
       "        [12., 12., 12.],\n",
       "        [ 9., 10.,  0.]])"
      ]
     },
     "execution_count": 10,
     "metadata": {},
     "output_type": "execute_result"
    }
   ],
   "source": [
    "X[:3,:] = 12\n",
    "X"
   ]
  },
  {
   "cell_type": "code",
   "execution_count": 11,
   "id": "30f3069a-b57c-44bc-9868-56c25d9fbd49",
   "metadata": {},
   "outputs": [
    {
     "data": {
      "text/plain": [
       "tensor([1.6275e+05, 1.6275e+05, 1.6275e+05, 1.6275e+05, 1.6275e+05, 1.6275e+05,\n",
       "        1.6275e+05, 1.6275e+05, 1.6275e+05, 8.1031e+03, 2.2026e+04, 1.0000e+00])"
      ]
     },
     "execution_count": 11,
     "metadata": {},
     "output_type": "execute_result"
    }
   ],
   "source": [
    "torch.exp(x) #unary_operator = R->R"
   ]
  },
  {
   "cell_type": "code",
   "execution_count": 12,
   "id": "5216276a-a615-45b1-ba10-1363b8a007bb",
   "metadata": {},
   "outputs": [
    {
     "data": {
      "text/plain": [
       "(tensor([ 3.,  4.,  6., 10.]),\n",
       " tensor([-1.,  0.,  2.,  6.]),\n",
       " tensor([ 2.,  4.,  8., 16.]),\n",
       " tensor([0.5000, 1.0000, 2.0000, 4.0000]),\n",
       " tensor([ 1.,  4., 16., 64.]))"
      ]
     },
     "execution_count": 12,
     "metadata": {},
     "output_type": "execute_result"
    }
   ],
   "source": [
    "x = torch.tensor([1.0, 2, 4, 8])\n",
    "y = torch.tensor([2, 2, 2, 2])\n",
    "x + y, x - y, x * y, x / y, x ** y  #Binary_operators=R,R->R"
   ]
  },
  {
   "cell_type": "code",
   "execution_count": 13,
   "id": "a9536081-edb8-4c70-958d-61cbc4178a64",
   "metadata": {},
   "outputs": [
    {
     "data": {
      "text/plain": [
       "(tensor([[ 0.,  1.,  2.,  3.],\n",
       "         [ 4.,  5.,  6.,  7.],\n",
       "         [ 8.,  9., 10., 11.],\n",
       "         [ 2.,  1.,  4.,  3.],\n",
       "         [ 1.,  2.,  3.,  4.],\n",
       "         [ 4.,  3.,  2.,  1.]]),\n",
       " tensor([[ 0.,  1.,  2.,  3.,  2.,  1.,  4.,  3.],\n",
       "         [ 4.,  5.,  6.,  7.,  1.,  2.,  3.,  4.],\n",
       "         [ 8.,  9., 10., 11.,  4.,  3.,  2.,  1.]]))"
      ]
     },
     "execution_count": 13,
     "metadata": {},
     "output_type": "execute_result"
    }
   ],
   "source": [
    "X = torch.arange(12, dtype=torch.float32).reshape((3,4))\n",
    "Y = torch.tensor([[2.0, 1, 4, 3], [1, 2, 3, 4], [4, 3, 2, 1]])\n",
    "torch.cat((X,Y), dim=0), torch.cat((X,Y), dim=1)"
   ]
  },
  {
   "cell_type": "code",
   "execution_count": 14,
   "id": "2dbb7c7e-c2fe-4550-8f4f-6105e20f3bdc",
   "metadata": {},
   "outputs": [
    {
     "data": {
      "text/plain": [
       "tensor([[False,  True, False,  True],\n",
       "        [False, False, False, False],\n",
       "        [False, False, False, False]])"
      ]
     },
     "execution_count": 14,
     "metadata": {},
     "output_type": "execute_result"
    }
   ],
   "source": [
    "X==Y"
   ]
  },
  {
   "cell_type": "code",
   "execution_count": 15,
   "id": "0f55d3bc-f4a8-40e1-a80f-66c6fa8d8794",
   "metadata": {},
   "outputs": [
    {
     "data": {
      "text/plain": [
       "tensor(66.)"
      ]
     },
     "execution_count": 15,
     "metadata": {},
     "output_type": "execute_result"
    }
   ],
   "source": [
    "X.sum()"
   ]
  },
  {
   "cell_type": "code",
   "execution_count": 16,
   "id": "75d8ad1e-b5fa-4605-a493-25092884bf78",
   "metadata": {},
   "outputs": [
    {
     "data": {
      "text/plain": [
       "(tensor([[0],\n",
       "         [1],\n",
       "         [2]]),\n",
       " tensor([[0, 1, 2, 3]]))"
      ]
     },
     "execution_count": 16,
     "metadata": {},
     "output_type": "execute_result"
    }
   ],
   "source": [
    "a = torch.arange(3).reshape((3,1))\n",
    "b = torch.arange(4).reshape((1,4))\n",
    "a,b"
   ]
  },
  {
   "cell_type": "code",
   "execution_count": 17,
   "id": "d5637001-caaa-48fe-8251-2804a2a4f86a",
   "metadata": {},
   "outputs": [
    {
     "data": {
      "text/plain": [
       "tensor([[0, 1, 2, 3],\n",
       "        [1, 2, 3, 4],\n",
       "        [2, 3, 4, 5]])"
      ]
     },
     "execution_count": 17,
     "metadata": {},
     "output_type": "execute_result"
    }
   ],
   "source": [
    "a + b"
   ]
  },
  {
   "cell_type": "code",
   "execution_count": 18,
   "id": "8d5bc688-9f6e-4605-8648-2a70bab74e72",
   "metadata": {},
   "outputs": [],
   "source": [
    "#We can assign the result of an operation to a previously allocated array Y by using slice notation: Y[:] = <expression>."
   ]
  },
  {
   "cell_type": "code",
   "execution_count": 19,
   "id": "9910ee16-26de-4324-8815-4f6d2b06f6c1",
   "metadata": {},
   "outputs": [
    {
     "name": "stdout",
     "output_type": "stream",
     "text": [
      "id(Z): 140138629379184\n",
      "id(Z): 140138629379184\n"
     ]
    }
   ],
   "source": [
    "Z = torch.zeros_like(Y)\n",
    "print('id(Z):',id(Z))\n",
    "Z[:] = X + Y\n",
    "print('id(Z):',id(Z))"
   ]
  },
  {
   "cell_type": "code",
   "execution_count": 20,
   "id": "b483cff4-c69b-44c1-97eb-cd49e351e27b",
   "metadata": {},
   "outputs": [],
   "source": [
    "#Day-2\n",
    "#Data-Preprocessing"
   ]
  },
  {
   "cell_type": "code",
   "execution_count": 21,
   "id": "df8ed5fc-c1ce-4f73-977c-407280890173",
   "metadata": {},
   "outputs": [],
   "source": [
    "import os\n",
    "os.makedirs(os.path.join('..','data'), exist_ok=True)\n",
    "data_file = os.path.join('..','data','tiny_house.csv')\n",
    "with open(data_file,'w') as f:\n",
    "    f.write('''NumRooms,Rooftype,Price\n",
    "    NA,NA,127500\n",
    "    2,NA,106000\n",
    "    4,SLATE,178100\n",
    "    NA,NA,140000''')"
   ]
  },
  {
   "cell_type": "code",
   "execution_count": 22,
   "id": "7e6d22bd-0b0c-4c26-861b-5be8ac289156",
   "metadata": {},
   "outputs": [
    {
     "name": "stdout",
     "output_type": "stream",
     "text": [
      "  NumRooms Rooftype   Price\n",
      "0       NA      NaN  127500\n",
      "1        2      NaN  106000\n",
      "2        4    SLATE  178100\n",
      "3       NA      NaN  140000\n"
     ]
    }
   ],
   "source": [
    "import pandas as pd\n",
    "\n",
    "data = pd.read_csv(data_file)\n",
    "print(data)"
   ]
  },
  {
   "cell_type": "code",
   "execution_count": 23,
   "id": "cbad9b04-1a89-45e4-8dc8-3eb644b03d9d",
   "metadata": {},
   "outputs": [
    {
     "name": "stdout",
     "output_type": "stream",
     "text": [
      "   NumRooms_    2  NumRooms_    4  NumRooms_    NA  NumRooms_nan  \\\n",
      "0           False           False             True         False   \n",
      "1            True           False            False         False   \n",
      "2           False            True            False         False   \n",
      "3           False           False             True         False   \n",
      "\n",
      "   Rooftype_SLATE  Rooftype_nan  \n",
      "0           False          True  \n",
      "1           False          True  \n",
      "2            True         False  \n",
      "3           False          True  \n"
     ]
    }
   ],
   "source": [
    "inputs, targets = data.iloc[:,0:2],data.iloc[:,2]\n",
    "inputs = pd.get_dummies(inputs, dummy_na=True)\n",
    "print(inputs)"
   ]
  },
  {
   "cell_type": "code",
   "execution_count": 24,
   "id": "42b11759-1e1c-4a07-879a-cdd3a45c9737",
   "metadata": {},
   "outputs": [
    {
     "name": "stdout",
     "output_type": "stream",
     "text": [
      "   NumRooms_    2  NumRooms_    4  NumRooms_    NA  NumRooms_nan  \\\n",
      "0           False           False             True         False   \n",
      "1            True           False            False         False   \n",
      "2           False            True            False         False   \n",
      "3           False           False             True         False   \n",
      "\n",
      "   Rooftype_SLATE  Rooftype_nan  \n",
      "0           False          True  \n",
      "1           False          True  \n",
      "2            True         False  \n",
      "3           False          True  \n"
     ]
    }
   ],
   "source": [
    "inputs = inputs.fillna(inputs.mean())\n",
    "print(inputs)"
   ]
  },
  {
   "cell_type": "code",
   "execution_count": 25,
   "id": "d45a352c-2835-42ec-bfa7-b1d4956efbc1",
   "metadata": {},
   "outputs": [],
   "source": [
    "#SCALARS\n",
    "import torch"
   ]
  },
  {
   "cell_type": "code",
   "execution_count": 26,
   "id": "39161949-4d4f-49f0-be4d-de9b3893f7db",
   "metadata": {},
   "outputs": [],
   "source": [
    "#element-wise-dot-product in tensors is called Hadamard product\n"
   ]
  },
  {
   "cell_type": "code",
   "execution_count": 27,
   "id": "0b78d6ef-71df-4247-bdcf-8bbcee5e932f",
   "metadata": {},
   "outputs": [
    {
     "data": {
      "text/plain": [
       "(tensor([0., 1., 2.]), tensor(3.))"
      ]
     },
     "execution_count": 27,
     "metadata": {},
     "output_type": "execute_result"
    }
   ],
   "source": [
    "x = torch.arange(3, dtype=torch.float32)\n",
    "x, x.sum()"
   ]
  },
  {
   "cell_type": "code",
   "execution_count": 28,
   "id": "6e8c1339-77d6-418e-b2f9-9b7b297eb068",
   "metadata": {},
   "outputs": [
    {
     "data": {
      "text/plain": [
       "(tensor([3., 5., 7.]), tensor([ 3., 12.]))"
      ]
     },
     "execution_count": 28,
     "metadata": {},
     "output_type": "execute_result"
    }
   ],
   "source": [
    "A = torch.arange(6, dtype=torch.float32).reshape(2, 3)\n",
    "A.sum(axis=0), A.sum(axis=1)"
   ]
  },
  {
   "cell_type": "code",
   "execution_count": 29,
   "id": "8ec1f1b8-4dbe-4a1d-a390-9828174fd479",
   "metadata": {},
   "outputs": [
    {
     "data": {
      "text/plain": [
       "tensor(True)"
      ]
     },
     "execution_count": 29,
     "metadata": {},
     "output_type": "execute_result"
    }
   ],
   "source": [
    "A.sum(axis=[0, 1]) == A.sum() # Same as A.sum()"
   ]
  },
  {
   "cell_type": "code",
   "execution_count": 30,
   "id": "6432e896-a29b-40f3-88d8-b97fc08f0b2f",
   "metadata": {},
   "outputs": [
    {
     "data": {
      "text/plain": [
       "(tensor(2.5000), tensor(2.5000))"
      ]
     },
     "execution_count": 30,
     "metadata": {},
     "output_type": "execute_result"
    }
   ],
   "source": [
    "#numel: number of elements\n",
    "A.mean(), A.sum() / A.numel()"
   ]
  },
  {
   "cell_type": "code",
   "execution_count": 31,
   "id": "d7676ff7-6741-44be-b4a6-045dd67ebaa6",
   "metadata": {},
   "outputs": [
    {
     "data": {
      "text/plain": [
       "2"
      ]
     },
     "execution_count": 31,
     "metadata": {},
     "output_type": "execute_result"
    }
   ],
   "source": [
    "A.shape[0]"
   ]
  },
  {
   "cell_type": "code",
   "execution_count": 32,
   "id": "a777cc9e-79a3-474c-abfe-0aff018ef4a1",
   "metadata": {},
   "outputs": [
    {
     "data": {
      "text/plain": [
       "(tensor([[ 3.],\n",
       "         [12.]]),\n",
       " torch.Size([2, 1]))"
      ]
     },
     "execution_count": 32,
     "metadata": {},
     "output_type": "execute_result"
    }
   ],
   "source": [
    "sumA = A.sum(axis=1, keepdims=True)\n",
    "sumA, sumA.shape\n"
   ]
  },
  {
   "cell_type": "code",
   "execution_count": 33,
   "id": "7cfdd400-f9f2-4d9a-8d82-ec3b88e54eb9",
   "metadata": {},
   "outputs": [
    {
     "data": {
      "text/plain": [
       "tensor([[0., 1., 2.],\n",
       "        [3., 4., 5.]])"
      ]
     },
     "execution_count": 33,
     "metadata": {},
     "output_type": "execute_result"
    }
   ],
   "source": [
    "A"
   ]
  },
  {
   "cell_type": "code",
   "execution_count": 34,
   "id": "52289ebf-a9ee-4c06-bec7-5e7339ecb1e6",
   "metadata": {},
   "outputs": [
    {
     "data": {
      "text/plain": [
       "tensor([[0.0000, 0.3333, 0.6667],\n",
       "        [0.2500, 0.3333, 0.4167]])"
      ]
     },
     "execution_count": 34,
     "metadata": {},
     "output_type": "execute_result"
    }
   ],
   "source": [
    "A / sumA"
   ]
  },
  {
   "cell_type": "code",
   "execution_count": 35,
   "id": "18253baf-9a3b-465f-b71b-90f44f5bbf74",
   "metadata": {},
   "outputs": [
    {
     "data": {
      "text/plain": [
       "tensor([[0., 1., 2.],\n",
       "        [3., 5., 7.]])"
      ]
     },
     "execution_count": 35,
     "metadata": {},
     "output_type": "execute_result"
    }
   ],
   "source": [
    "A.cumsum(axis=0)"
   ]
  },
  {
   "cell_type": "code",
   "execution_count": 36,
   "id": "845b59da-e48a-4cfb-892e-d55f7d9a16be",
   "metadata": {},
   "outputs": [
    {
     "data": {
      "text/plain": [
       "(tensor([0., 1., 2.]), tensor([1., 1., 1.]), tensor(3.))"
      ]
     },
     "execution_count": 36,
     "metadata": {},
     "output_type": "execute_result"
    }
   ],
   "source": [
    "y = torch.ones(3,dtype = torch.float32)\n",
    "x, y, torch.dot(x,y)"
   ]
  },
  {
   "cell_type": "code",
   "execution_count": 37,
   "id": "c5b766a9-cb05-4ec8-a417-b57c692c6b28",
   "metadata": {},
   "outputs": [
    {
     "data": {
      "text/plain": [
       "tensor(3.)"
      ]
     },
     "execution_count": 37,
     "metadata": {},
     "output_type": "execute_result"
    }
   ],
   "source": [
    "torch.sum(x*y) #DOTProduct"
   ]
  },
  {
   "cell_type": "code",
   "execution_count": 38,
   "id": "ee654ee5-ea33-4c47-86aa-4bffaae51588",
   "metadata": {},
   "outputs": [
    {
     "data": {
      "text/plain": [
       "torch.Size([2, 3])"
      ]
     },
     "execution_count": 38,
     "metadata": {},
     "output_type": "execute_result"
    }
   ],
   "source": [
    "A.shape"
   ]
  },
  {
   "cell_type": "code",
   "execution_count": 39,
   "id": "ac5ac6e4-c87f-472a-b6d4-aa7d9b94e982",
   "metadata": {},
   "outputs": [
    {
     "data": {
      "text/plain": [
       "torch.Size([3])"
      ]
     },
     "execution_count": 39,
     "metadata": {},
     "output_type": "execute_result"
    }
   ],
   "source": [
    "x.shape"
   ]
  },
  {
   "cell_type": "code",
   "execution_count": 40,
   "id": "4b5e61fb-f646-48e9-8ceb-6118e6a95154",
   "metadata": {},
   "outputs": [
    {
     "data": {
      "text/plain": [
       "tensor([True, True])"
      ]
     },
     "execution_count": 40,
     "metadata": {},
     "output_type": "execute_result"
    }
   ],
   "source": [
    "torch.mv(A,x) == A@x"
   ]
  },
  {
   "cell_type": "code",
   "execution_count": 41,
   "id": "59c2e1e1-4e96-4690-9eca-49927ae0a2e8",
   "metadata": {},
   "outputs": [
    {
     "data": {
      "text/plain": [
       "(tensor([[ 3.,  3.,  3.,  3.],\n",
       "         [12., 12., 12., 12.]]),\n",
       " tensor([[ 3.,  3.,  3.,  3.],\n",
       "         [12., 12., 12., 12.]]))"
      ]
     },
     "execution_count": 41,
     "metadata": {},
     "output_type": "execute_result"
    }
   ],
   "source": [
    "B = torch.ones(3,4)\n",
    "torch.mm(A,B), A@B"
   ]
  },
  {
   "cell_type": "code",
   "execution_count": 42,
   "id": "26913f59-79f1-4bd8-932b-07fdd64f3c01",
   "metadata": {},
   "outputs": [],
   "source": [
    "#HADAMARD : Element wise\n",
    "#Dot product: Mul + sum"
   ]
  },
  {
   "cell_type": "code",
   "execution_count": 43,
   "id": "35bdd0e6-2f55-4480-927e-c2e33cd45fbd",
   "metadata": {},
   "outputs": [
    {
     "data": {
      "text/plain": [
       "tensor(5.)"
      ]
     },
     "execution_count": 43,
     "metadata": {},
     "output_type": "execute_result"
    }
   ],
   "source": [
    "u = torch.tensor([3.0,-4.0]) #L2-norm\n",
    "torch.norm(u)"
   ]
  },
  {
   "cell_type": "code",
   "execution_count": 44,
   "id": "ef0623c5-67c5-4b07-a325-c9ca6c2720c5",
   "metadata": {},
   "outputs": [
    {
     "data": {
      "text/plain": [
       "tensor(7.)"
      ]
     },
     "execution_count": 44,
     "metadata": {},
     "output_type": "execute_result"
    }
   ],
   "source": [
    "torch.abs(u).sum() #L1-norm"
   ]
  },
  {
   "cell_type": "code",
   "execution_count": 45,
   "id": "ea89dd88-9014-40e8-a73a-c69d8bf9a7d7",
   "metadata": {},
   "outputs": [
    {
     "data": {
      "text/plain": [
       "tensor(6.)"
      ]
     },
     "execution_count": 45,
     "metadata": {},
     "output_type": "execute_result"
    }
   ],
   "source": [
    "#For-matrixes Frobenius norm\n",
    "torch.norm(torch.ones((4,9)))"
   ]
  },
  {
   "cell_type": "code",
   "execution_count": 48,
   "id": "38ca80a3-6891-4cd2-80eb-78608bb6ee21",
   "metadata": {},
   "outputs": [],
   "source": [
    "%matplotlib inline\n",
    "import numpy as np\n",
    "from matplotlib_inline import backend_inline\n"
   ]
  },
  {
   "cell_type": "code",
   "execution_count": 54,
   "id": "e6ca38c1-a696-4566-9e43-7af50a4467fa",
   "metadata": {},
   "outputs": [],
   "source": [
    "def use_svg_display(): #@save\n",
    "    backend_inline.set_matplotlib_formats('svg')"
   ]
  },
  {
   "cell_type": "code",
   "execution_count": 55,
   "id": "71219403-7952-4bd3-95c8-d39a89cf730b",
   "metadata": {},
   "outputs": [],
   "source": [
    "def set_figsize(figsize=(3.5, 2.5)): #@save\n",
    "    use_svg_display()\n",
    "    d2l.plt.rcParams['figure.figsize'] = figsize"
   ]
  },
  {
   "cell_type": "code",
   "execution_count": 56,
   "id": "986c5fbc-5512-4ce9-8f81-585e6f73a7aa",
   "metadata": {},
   "outputs": [],
   "source": [
    "def set_axes(axes, xlabel, ylabel, xlim, ylim, xscale, yscale, legend):\n",
    "    axes.set_xlabel(xlabel), axes.set_ylabel(ylabel)\n",
    "    axes.set_xscale(xscale), axes.set_yscale(yscale)\n",
    "    axes.set_xlim(xlim), axes.set_ylim(ylim)\n",
    "    if legend:\n",
    "        axis.legend(legend)\n",
    "    axes.grid()"
   ]
  },
  {
   "cell_type": "code",
   "execution_count": 57,
   "id": "3e6f6846-8a00-4333-8e5e-51601024515b",
   "metadata": {},
   "outputs": [],
   "source": [
    "#@save\n",
    "def plot(X, Y=None, xlabel=None, ylabel=None, legend=[], xlim=None,\n",
    "         ylim=None, xscale='linear', yscale='linear',\n",
    "         fmts=('-', 'm--', 'g-.', 'r:'), figsize=(3.5, 2.5), axes=None):\n",
    "    \"\"\"Plot data points.\"\"\"\n",
    "\n",
    "    def has_one_axis(X):  # True if X (tensor or list) has 1 axis\n",
    "        return (hasattr(X, \"ndim\") and X.ndim == 1 or isinstance(X, list)\n",
    "                and not hasattr(X[0], \"__len__\"))\n",
    "\n",
    "    if has_one_axis(X): X = [X]\n",
    "    if Y is None:\n",
    "        X, Y = [[]] * len(X), X\n",
    "    elif has_one_axis(Y):\n",
    "        Y = [Y]\n",
    "    if len(X) != len(Y):\n",
    "        X = X * len(Y)\n",
    "\n",
    "    set_figsize(figsize)\n",
    "    if axes is None:\n",
    "        axes = d2l.plt.gca()\n",
    "    axes.cla()\n",
    "    for x, y, fmt in zip(X, Y, fmts):\n",
    "        axes.plot(x,y,fmt) if len(x) else axes.plot(y,fmt)\n",
    "    set_axes(axes, xlabel, ylabel, xlim, ylim, xscale, yscale, legend)"
   ]
  },
  {
   "cell_type": "code",
   "execution_count": 62,
   "id": "e71300c9-0c8b-430d-aad9-1e66b7f2aed7",
   "metadata": {},
   "outputs": [
    {
     "ename": "NameError",
     "evalue": "name 'd2l' is not defined",
     "output_type": "error",
     "traceback": [
      "\u001b[0;31m---------------------------------------------------------------------------\u001b[0m",
      "\u001b[0;31mNameError\u001b[0m                                 Traceback (most recent call last)",
      "Cell \u001b[0;32mIn[62], line 3\u001b[0m\n\u001b[1;32m      1\u001b[0m x \u001b[38;5;241m=\u001b[39m np\u001b[38;5;241m.\u001b[39marange(\u001b[38;5;241m0\u001b[39m, \u001b[38;5;241m3\u001b[39m, \u001b[38;5;241m0.1\u001b[39m)\n\u001b[1;32m      2\u001b[0m y \u001b[38;5;241m=\u001b[39m \u001b[38;5;241m2\u001b[39m \u001b[38;5;241m*\u001b[39m x \u001b[38;5;241m-\u001b[39m \u001b[38;5;241m3\u001b[39m\n\u001b[0;32m----> 3\u001b[0m \u001b[43mplot\u001b[49m\u001b[43m(\u001b[49m\u001b[43mx\u001b[49m\u001b[43m,\u001b[49m\u001b[43m \u001b[49m\u001b[43my\u001b[49m\u001b[43m,\u001b[49m\u001b[43m \u001b[49m\u001b[38;5;124;43m'\u001b[39;49m\u001b[38;5;124;43mx\u001b[39;49m\u001b[38;5;124;43m'\u001b[39;49m\u001b[43m,\u001b[49m\u001b[43m \u001b[49m\u001b[38;5;124;43m'\u001b[39;49m\u001b[38;5;124;43my\u001b[39;49m\u001b[38;5;124;43m'\u001b[39;49m\u001b[43m,\u001b[49m\u001b[43m \u001b[49m\u001b[43mlegend\u001b[49m\u001b[38;5;241;43m=\u001b[39;49m\u001b[43m[\u001b[49m\u001b[38;5;124;43m'\u001b[39;49m\u001b[38;5;124;43my\u001b[39;49m\u001b[38;5;124;43m'\u001b[39;49m\u001b[43m,\u001b[49m\u001b[43m \u001b[49m\u001b[38;5;124;43m'\u001b[39;49m\u001b[38;5;124;43mTangent line (x=1)\u001b[39;49m\u001b[38;5;124;43m'\u001b[39;49m\u001b[43m]\u001b[49m\u001b[43m)\u001b[49m\n",
      "Cell \u001b[0;32mIn[57], line 19\u001b[0m, in \u001b[0;36mplot\u001b[0;34m(X, Y, xlabel, ylabel, legend, xlim, ylim, xscale, yscale, fmts, figsize, axes)\u001b[0m\n\u001b[1;32m     16\u001b[0m \u001b[38;5;28;01mif\u001b[39;00m \u001b[38;5;28mlen\u001b[39m(X) \u001b[38;5;241m!=\u001b[39m \u001b[38;5;28mlen\u001b[39m(Y):\n\u001b[1;32m     17\u001b[0m     X \u001b[38;5;241m=\u001b[39m X \u001b[38;5;241m*\u001b[39m \u001b[38;5;28mlen\u001b[39m(Y)\n\u001b[0;32m---> 19\u001b[0m \u001b[43mset_figsize\u001b[49m\u001b[43m(\u001b[49m\u001b[43mfigsize\u001b[49m\u001b[43m)\u001b[49m\n\u001b[1;32m     20\u001b[0m \u001b[38;5;28;01mif\u001b[39;00m axes \u001b[38;5;129;01mis\u001b[39;00m \u001b[38;5;28;01mNone\u001b[39;00m:\n\u001b[1;32m     21\u001b[0m     axes \u001b[38;5;241m=\u001b[39m d2l\u001b[38;5;241m.\u001b[39mplt\u001b[38;5;241m.\u001b[39mgca()\n",
      "Cell \u001b[0;32mIn[55], line 3\u001b[0m, in \u001b[0;36mset_figsize\u001b[0;34m(figsize)\u001b[0m\n\u001b[1;32m      1\u001b[0m \u001b[38;5;28;01mdef\u001b[39;00m \u001b[38;5;21mset_figsize\u001b[39m(figsize\u001b[38;5;241m=\u001b[39m(\u001b[38;5;241m3.5\u001b[39m, \u001b[38;5;241m2.5\u001b[39m)): \u001b[38;5;66;03m#@save\u001b[39;00m\n\u001b[1;32m      2\u001b[0m     use_svg_display()\n\u001b[0;32m----> 3\u001b[0m     \u001b[43md2l\u001b[49m\u001b[38;5;241m.\u001b[39mplt\u001b[38;5;241m.\u001b[39mrcParams[\u001b[38;5;124m'\u001b[39m\u001b[38;5;124mfigure.figsize\u001b[39m\u001b[38;5;124m'\u001b[39m] \u001b[38;5;241m=\u001b[39m figsize\n",
      "\u001b[0;31mNameError\u001b[0m: name 'd2l' is not defined"
     ]
    }
   ],
   "source": [
    "x = np.arange(0, 3, 0.1)\n",
    "y = 2 * x - 3\n",
    "plot(x, y, 'x', 'y', legend=['y', 'Tangent line (x=1)'])"
   ]
  },
  {
   "cell_type": "code",
   "execution_count": 63,
   "id": "ea839112-d160-429e-a9ff-6445a6a220de",
   "metadata": {},
   "outputs": [],
   "source": [
    "#autograd : automatic differentiation"
   ]
  },
  {
   "cell_type": "code",
   "execution_count": 85,
   "id": "7d540987-72b2-4fe3-8de6-186078706ac8",
   "metadata": {},
   "outputs": [],
   "source": [
    "import torch"
   ]
  },
  {
   "cell_type": "code",
   "execution_count": 86,
   "id": "edd89844-b2bb-4f16-9de2-4bc717d4f3eb",
   "metadata": {},
   "outputs": [],
   "source": [
    "x = torch.arange(4.0, requires_grad = True)\n",
    "x.grad"
   ]
  },
  {
   "cell_type": "code",
   "execution_count": 87,
   "id": "6546c092-76c6-4fe8-8e1e-b2b5fd5fe332",
   "metadata": {},
   "outputs": [
    {
     "data": {
      "text/plain": [
       "tensor(28., grad_fn=<MulBackward0>)"
      ]
     },
     "execution_count": 87,
     "metadata": {},
     "output_type": "execute_result"
    }
   ],
   "source": [
    "y = 2 * torch.dot(x,x)\n",
    "y"
   ]
  },
  {
   "cell_type": "code",
   "execution_count": 88,
   "id": "40176910-05eb-4c00-81c8-ec2fc5702869",
   "metadata": {},
   "outputs": [
    {
     "data": {
      "text/plain": [
       "tensor([ 0.,  4.,  8., 12.])"
      ]
     },
     "execution_count": 88,
     "metadata": {},
     "output_type": "execute_result"
    }
   ],
   "source": [
    "y.backward()\n",
    "x.grad"
   ]
  },
  {
   "cell_type": "code",
   "execution_count": 89,
   "id": "0ab6919e-cc7d-4c48-901d-9ae10ec8d4c7",
   "metadata": {},
   "outputs": [
    {
     "data": {
      "text/plain": [
       "tensor([1., 1., 1., 1.])"
      ]
     },
     "execution_count": 89,
     "metadata": {},
     "output_type": "execute_result"
    }
   ],
   "source": [
    "x.grad.zero_()\n",
    "y = x.sum()\n",
    "y.backward()\n",
    "x.grad"
   ]
  },
  {
   "cell_type": "code",
   "execution_count": 105,
   "id": "409c9968-5fd8-4a84-84f6-c9de056b6b22",
   "metadata": {},
   "outputs": [
    {
     "data": {
      "text/plain": [
       "tensor([ 0.,  4.,  8., 12.])"
      ]
     },
     "execution_count": 105,
     "metadata": {},
     "output_type": "execute_result"
    }
   ],
   "source": [
    "x.grad.zero_()\n",
    "y = x * x\n",
    "y.backward(retain_graph=True, gradient = torch.ones(len(y)))\n",
    "x.grad\n",
    "y.backward(gradient = torch.ones(len(y)))\n",
    "x.grad\n"
   ]
  },
  {
   "cell_type": "code",
   "execution_count": 94,
   "id": "46470648-4410-4a4d-be71-5ae1b7fd5e96",
   "metadata": {},
   "outputs": [
    {
     "data": {
      "text/plain": [
       "tensor([True, True, True, True])"
      ]
     },
     "execution_count": 94,
     "metadata": {},
     "output_type": "execute_result"
    }
   ],
   "source": [
    "x.grad.zero_()\n",
    "y = x * x\n",
    "u = y.detach()\n",
    "z = u * x #destroying the provenance of y (Detaching computation)\n",
    "z.sum().backward()\n",
    "x.grad == u\n",
    "\n"
   ]
  },
  {
   "cell_type": "code",
   "execution_count": 96,
   "id": "c695d7d6-939b-44d7-b3f4-ca7a67ffbce9",
   "metadata": {},
   "outputs": [],
   "source": [
    "def f(a):\n",
    "    b = a * 2\n",
    "    while b.norm() < 1000:\n",
    "        b = b * 2\n",
    "    if b.sum() > 0:\n",
    "        c = b\n",
    "    else:\n",
    "        c = 100 * b\n",
    "    return c    "
   ]
  },
  {
   "cell_type": "code",
   "execution_count": 97,
   "id": "bb200d6c-abeb-4e4c-8cc0-a85cf2a059f2",
   "metadata": {},
   "outputs": [],
   "source": [
    "a = torch.randn(size = (), requires_grad=True)\n",
    "d = f(a)\n",
    "d.backward()"
   ]
  },
  {
   "cell_type": "code",
   "execution_count": 100,
   "id": "f95e1d2b-cf41-47ec-8e54-e21a00a3fd8a",
   "metadata": {},
   "outputs": [
    {
     "data": {
      "text/plain": [
       "tensor(True)"
      ]
     },
     "execution_count": 100,
     "metadata": {},
     "output_type": "execute_result"
    }
   ],
   "source": [
    "a.grad == d / a"
   ]
  },
  {
   "cell_type": "code",
   "execution_count": 106,
   "id": "253dddcc-7601-42fe-ba55-506c4b9bfd41",
   "metadata": {},
   "outputs": [],
   "source": [
    "def f(a):\n",
    "    b = a * 2\n",
    "    while b.norm() < 1000:\n",
    "        b = b * 2\n",
    "    if b.sum() > 0:\n",
    "        c = b\n",
    "    else:\n",
    "        c = 100 * b\n",
    "    return c "
   ]
  },
  {
   "cell_type": "code",
   "execution_count": 120,
   "id": "3ff5b491-db5e-49b1-b22f-c8608a15cc25",
   "metadata": {},
   "outputs": [
    {
     "ename": "RuntimeError",
     "evalue": "Mismatch in shape: grad_output[0] has a shape of torch.Size([1000]) and output[0] has a shape of torch.Size([2]).",
     "output_type": "error",
     "traceback": [
      "\u001b[0;31m---------------------------------------------------------------------------\u001b[0m",
      "\u001b[0;31mRuntimeError\u001b[0m                              Traceback (most recent call last)",
      "Cell \u001b[0;32mIn[120], line 3\u001b[0m\n\u001b[1;32m      1\u001b[0m a \u001b[38;5;241m=\u001b[39m torch\u001b[38;5;241m.\u001b[39mtensor([\u001b[38;5;241m1.0\u001b[39m, \u001b[38;5;241m2.0\u001b[39m], requires_grad\u001b[38;5;241m=\u001b[39m\u001b[38;5;28;01mTrue\u001b[39;00m)\n\u001b[1;32m      2\u001b[0m d \u001b[38;5;241m=\u001b[39m f(a)\n\u001b[0;32m----> 3\u001b[0m \u001b[43md\u001b[49m\u001b[38;5;241;43m.\u001b[39;49m\u001b[43mbackward\u001b[49m\u001b[43m(\u001b[49m\u001b[43mtorch\u001b[49m\u001b[38;5;241;43m.\u001b[39;49m\u001b[43mones_like\u001b[49m\u001b[43m(\u001b[49m\u001b[43mx\u001b[49m\u001b[43m)\u001b[49m\u001b[43m)\u001b[49m\n",
      "File \u001b[0;32m~/.local/lib/python3.10/site-packages/torch/_tensor.py:487\u001b[0m, in \u001b[0;36mTensor.backward\u001b[0;34m(self, gradient, retain_graph, create_graph, inputs)\u001b[0m\n\u001b[1;32m    477\u001b[0m \u001b[38;5;28;01mif\u001b[39;00m has_torch_function_unary(\u001b[38;5;28mself\u001b[39m):\n\u001b[1;32m    478\u001b[0m     \u001b[38;5;28;01mreturn\u001b[39;00m handle_torch_function(\n\u001b[1;32m    479\u001b[0m         Tensor\u001b[38;5;241m.\u001b[39mbackward,\n\u001b[1;32m    480\u001b[0m         (\u001b[38;5;28mself\u001b[39m,),\n\u001b[0;32m   (...)\u001b[0m\n\u001b[1;32m    485\u001b[0m         inputs\u001b[38;5;241m=\u001b[39minputs,\n\u001b[1;32m    486\u001b[0m     )\n\u001b[0;32m--> 487\u001b[0m \u001b[43mtorch\u001b[49m\u001b[38;5;241;43m.\u001b[39;49m\u001b[43mautograd\u001b[49m\u001b[38;5;241;43m.\u001b[39;49m\u001b[43mbackward\u001b[49m\u001b[43m(\u001b[49m\n\u001b[1;32m    488\u001b[0m \u001b[43m    \u001b[49m\u001b[38;5;28;43mself\u001b[39;49m\u001b[43m,\u001b[49m\u001b[43m \u001b[49m\u001b[43mgradient\u001b[49m\u001b[43m,\u001b[49m\u001b[43m \u001b[49m\u001b[43mretain_graph\u001b[49m\u001b[43m,\u001b[49m\u001b[43m \u001b[49m\u001b[43mcreate_graph\u001b[49m\u001b[43m,\u001b[49m\u001b[43m \u001b[49m\u001b[43minputs\u001b[49m\u001b[38;5;241;43m=\u001b[39;49m\u001b[43minputs\u001b[49m\n\u001b[1;32m    489\u001b[0m \u001b[43m\u001b[49m\u001b[43m)\u001b[49m\n",
      "File \u001b[0;32m~/.local/lib/python3.10/site-packages/torch/autograd/__init__.py:193\u001b[0m, in \u001b[0;36mbackward\u001b[0;34m(tensors, grad_tensors, retain_graph, create_graph, grad_variables, inputs)\u001b[0m\n\u001b[1;32m    189\u001b[0m inputs \u001b[38;5;241m=\u001b[39m (inputs,) \u001b[38;5;28;01mif\u001b[39;00m \u001b[38;5;28misinstance\u001b[39m(inputs, torch\u001b[38;5;241m.\u001b[39mTensor) \u001b[38;5;28;01melse\u001b[39;00m \\\n\u001b[1;32m    190\u001b[0m     \u001b[38;5;28mtuple\u001b[39m(inputs) \u001b[38;5;28;01mif\u001b[39;00m inputs \u001b[38;5;129;01mis\u001b[39;00m \u001b[38;5;129;01mnot\u001b[39;00m \u001b[38;5;28;01mNone\u001b[39;00m \u001b[38;5;28;01melse\u001b[39;00m \u001b[38;5;28mtuple\u001b[39m()\n\u001b[1;32m    192\u001b[0m grad_tensors_ \u001b[38;5;241m=\u001b[39m _tensor_or_tensors_to_tuple(grad_tensors, \u001b[38;5;28mlen\u001b[39m(tensors))\n\u001b[0;32m--> 193\u001b[0m grad_tensors_ \u001b[38;5;241m=\u001b[39m \u001b[43m_make_grads\u001b[49m\u001b[43m(\u001b[49m\u001b[43mtensors\u001b[49m\u001b[43m,\u001b[49m\u001b[43m \u001b[49m\u001b[43mgrad_tensors_\u001b[49m\u001b[43m,\u001b[49m\u001b[43m \u001b[49m\u001b[43mis_grads_batched\u001b[49m\u001b[38;5;241;43m=\u001b[39;49m\u001b[38;5;28;43;01mFalse\u001b[39;49;00m\u001b[43m)\u001b[49m\n\u001b[1;32m    194\u001b[0m \u001b[38;5;28;01mif\u001b[39;00m retain_graph \u001b[38;5;129;01mis\u001b[39;00m \u001b[38;5;28;01mNone\u001b[39;00m:\n\u001b[1;32m    195\u001b[0m     retain_graph \u001b[38;5;241m=\u001b[39m create_graph\n",
      "File \u001b[0;32m~/.local/lib/python3.10/site-packages/torch/autograd/__init__.py:71\u001b[0m, in \u001b[0;36m_make_grads\u001b[0;34m(outputs, grads, is_grads_batched)\u001b[0m\n\u001b[1;32m     59\u001b[0m         \u001b[38;5;28;01mraise\u001b[39;00m \u001b[38;5;167;01mRuntimeError\u001b[39;00m(\u001b[38;5;124m\"\u001b[39m\u001b[38;5;124mIf `is_grads_batched=True`, we interpret the first \u001b[39m\u001b[38;5;124m\"\u001b[39m\n\u001b[1;32m     60\u001b[0m                            \u001b[38;5;124m\"\u001b[39m\u001b[38;5;124mdimension of each grad_output as the batch dimension. \u001b[39m\u001b[38;5;124m\"\u001b[39m\n\u001b[1;32m     61\u001b[0m                            \u001b[38;5;124m\"\u001b[39m\u001b[38;5;124mThe sizes of the remaining dimensions are expected to match \u001b[39m\u001b[38;5;124m\"\u001b[39m\n\u001b[0;32m   (...)\u001b[0m\n\u001b[1;32m     68\u001b[0m                            \u001b[38;5;124m\"\u001b[39m\u001b[38;5;124mIf you only want some tensors in `grad_output` to be considered \u001b[39m\u001b[38;5;124m\"\u001b[39m\n\u001b[1;32m     69\u001b[0m                            \u001b[38;5;124m\"\u001b[39m\u001b[38;5;124mbatched, consider using vmap.\u001b[39m\u001b[38;5;124m\"\u001b[39m)\n\u001b[1;32m     70\u001b[0m     \u001b[38;5;28;01melse\u001b[39;00m:\n\u001b[0;32m---> 71\u001b[0m         \u001b[38;5;28;01mraise\u001b[39;00m \u001b[38;5;167;01mRuntimeError\u001b[39;00m(\u001b[38;5;124m\"\u001b[39m\u001b[38;5;124mMismatch in shape: grad_output[\u001b[39m\u001b[38;5;124m\"\u001b[39m\n\u001b[1;32m     72\u001b[0m                            \u001b[38;5;241m+\u001b[39m \u001b[38;5;28mstr\u001b[39m(grads\u001b[38;5;241m.\u001b[39mindex(grad)) \u001b[38;5;241m+\u001b[39m \u001b[38;5;124m\"\u001b[39m\u001b[38;5;124m] has a shape of \u001b[39m\u001b[38;5;124m\"\u001b[39m\n\u001b[1;32m     73\u001b[0m                            \u001b[38;5;241m+\u001b[39m \u001b[38;5;28mstr\u001b[39m(grad_shape) \u001b[38;5;241m+\u001b[39m \u001b[38;5;124m\"\u001b[39m\u001b[38;5;124m and output[\u001b[39m\u001b[38;5;124m\"\u001b[39m\n\u001b[1;32m     74\u001b[0m                            \u001b[38;5;241m+\u001b[39m \u001b[38;5;28mstr\u001b[39m(outputs\u001b[38;5;241m.\u001b[39mindex(out)) \u001b[38;5;241m+\u001b[39m \u001b[38;5;124m\"\u001b[39m\u001b[38;5;124m] has a shape of \u001b[39m\u001b[38;5;124m\"\u001b[39m\n\u001b[1;32m     75\u001b[0m                            \u001b[38;5;241m+\u001b[39m \u001b[38;5;28mstr\u001b[39m(out_shape) \u001b[38;5;241m+\u001b[39m \u001b[38;5;124m\"\u001b[39m\u001b[38;5;124m.\u001b[39m\u001b[38;5;124m\"\u001b[39m)\n\u001b[1;32m     76\u001b[0m \u001b[38;5;28;01mif\u001b[39;00m out\u001b[38;5;241m.\u001b[39mdtype\u001b[38;5;241m.\u001b[39mis_complex \u001b[38;5;241m!=\u001b[39m grad\u001b[38;5;241m.\u001b[39mdtype\u001b[38;5;241m.\u001b[39mis_complex:\n\u001b[1;32m     77\u001b[0m     \u001b[38;5;28;01mraise\u001b[39;00m \u001b[38;5;167;01mRuntimeError\u001b[39;00m(\u001b[38;5;124m\"\u001b[39m\u001b[38;5;124mFor complex Tensors, both grad_output and output\u001b[39m\u001b[38;5;124m\"\u001b[39m\n\u001b[1;32m     78\u001b[0m                        \u001b[38;5;124m\"\u001b[39m\u001b[38;5;124m are required to have the same dtype.\u001b[39m\u001b[38;5;124m\"\u001b[39m\n\u001b[1;32m     79\u001b[0m                        \u001b[38;5;124m\"\u001b[39m\u001b[38;5;124m Mismatch in dtype: grad_output[\u001b[39m\u001b[38;5;124m\"\u001b[39m\n\u001b[0;32m   (...)\u001b[0m\n\u001b[1;32m     82\u001b[0m                        \u001b[38;5;241m+\u001b[39m \u001b[38;5;28mstr\u001b[39m(outputs\u001b[38;5;241m.\u001b[39mindex(out)) \u001b[38;5;241m+\u001b[39m \u001b[38;5;124m\"\u001b[39m\u001b[38;5;124m] has a dtype of \u001b[39m\u001b[38;5;124m\"\u001b[39m\n\u001b[1;32m     83\u001b[0m                        \u001b[38;5;241m+\u001b[39m \u001b[38;5;28mstr\u001b[39m(out\u001b[38;5;241m.\u001b[39mdtype) \u001b[38;5;241m+\u001b[39m \u001b[38;5;124m\"\u001b[39m\u001b[38;5;124m.\u001b[39m\u001b[38;5;124m\"\u001b[39m)\n",
      "\u001b[0;31mRuntimeError\u001b[0m: Mismatch in shape: grad_output[0] has a shape of torch.Size([1000]) and output[0] has a shape of torch.Size([2])."
     ]
    }
   ],
   "source": [
    "a = torch.tensor([1.0, 2.0], requires_grad=True)\n",
    "d = f(a)\n",
    "d.backward(torch.ones_like(x))"
   ]
  },
  {
   "cell_type": "code",
   "execution_count": 129,
   "id": "ea081ac4-1176-4bdf-ba41-d5d9fd9c90ef",
   "metadata": {},
   "outputs": [
    {
     "data": {
      "image/svg+xml": [
       "<?xml version=\"1.0\" encoding=\"utf-8\" standalone=\"no\"?>\n",
       "<!DOCTYPE svg PUBLIC \"-//W3C//DTD SVG 1.1//EN\"\n",
       "  \"http://www.w3.org/Graphics/SVG/1.1/DTD/svg11.dtd\">\n",
       "<svg xmlns:xlink=\"http://www.w3.org/1999/xlink\" width=\"623.723438pt\" height=\"337.074375pt\" viewBox=\"0 0 623.723438 337.074375\" xmlns=\"http://www.w3.org/2000/svg\" version=\"1.1\">\n",
       " <metadata>\n",
       "  <rdf:RDF xmlns:dc=\"http://purl.org/dc/elements/1.1/\" xmlns:cc=\"http://creativecommons.org/ns#\" xmlns:rdf=\"http://www.w3.org/1999/02/22-rdf-syntax-ns#\">\n",
       "   <cc:Work>\n",
       "    <dc:type rdf:resource=\"http://purl.org/dc/dcmitype/StillImage\"/>\n",
       "    <dc:date>2023-08-10T20:33:28.123461</dc:date>\n",
       "    <dc:format>image/svg+xml</dc:format>\n",
       "    <dc:creator>\n",
       "     <cc:Agent>\n",
       "      <dc:title>Matplotlib v3.5.1, https://matplotlib.org/</dc:title>\n",
       "     </cc:Agent>\n",
       "    </dc:creator>\n",
       "   </cc:Work>\n",
       "  </rdf:RDF>\n",
       " </metadata>\n",
       " <defs>\n",
       "  <style type=\"text/css\">*{stroke-linejoin: round; stroke-linecap: butt}</style>\n",
       " </defs>\n",
       " <g id=\"figure_1\">\n",
       "  <g id=\"patch_1\">\n",
       "   <path d=\"M -0 337.074375 \n",
       "L 623.723438 337.074375 \n",
       "L 623.723438 0 \n",
       "L -0 0 \n",
       "z\n",
       "\" style=\"fill: #ffffff\"/>\n",
       "  </g>\n",
       "  <g id=\"axes_1\">\n",
       "   <g id=\"patch_2\">\n",
       "    <path d=\"M 58.523438 299.518125 \n",
       "L 616.523438 299.518125 \n",
       "L 616.523438 22.318125 \n",
       "L 58.523438 22.318125 \n",
       "z\n",
       "\" style=\"fill: #ffffff\"/>\n",
       "   </g>\n",
       "   <g id=\"matplotlib.axis_1\">\n",
       "    <g id=\"xtick_1\">\n",
       "     <g id=\"line2d_1\">\n",
       "      <path d=\"M 83.887074 299.518125 \n",
       "L 83.887074 22.318125 \n",
       "\" clip-path=\"url(#pc972f8010d)\" style=\"fill: none; stroke: #b0b0b0; stroke-width: 0.8; stroke-linecap: square\"/>\n",
       "     </g>\n",
       "     <g id=\"line2d_2\">\n",
       "      <defs>\n",
       "       <path id=\"mc9b96e2a31\" d=\"M 0 0 \n",
       "L 0 3.5 \n",
       "\" style=\"stroke: #000000; stroke-width: 0.8\"/>\n",
       "      </defs>\n",
       "      <g>\n",
       "       <use xlink:href=\"#mc9b96e2a31\" x=\"83.887074\" y=\"299.518125\" style=\"stroke: #000000; stroke-width: 0.8\"/>\n",
       "      </g>\n",
       "     </g>\n",
       "     <g id=\"text_1\">\n",
       "      <!-- −10.0 -->\n",
       "      <g transform=\"translate(68.564418 314.116563)scale(0.1 -0.1)\">\n",
       "       <defs>\n",
       "        <path id=\"DejaVuSans-2212\" d=\"M 678 2272 \n",
       "L 4684 2272 \n",
       "L 4684 1741 \n",
       "L 678 1741 \n",
       "L 678 2272 \n",
       "z\n",
       "\" transform=\"scale(0.015625)\"/>\n",
       "        <path id=\"DejaVuSans-31\" d=\"M 794 531 \n",
       "L 1825 531 \n",
       "L 1825 4091 \n",
       "L 703 3866 \n",
       "L 703 4441 \n",
       "L 1819 4666 \n",
       "L 2450 4666 \n",
       "L 2450 531 \n",
       "L 3481 531 \n",
       "L 3481 0 \n",
       "L 794 0 \n",
       "L 794 531 \n",
       "z\n",
       "\" transform=\"scale(0.015625)\"/>\n",
       "        <path id=\"DejaVuSans-30\" d=\"M 2034 4250 \n",
       "Q 1547 4250 1301 3770 \n",
       "Q 1056 3291 1056 2328 \n",
       "Q 1056 1369 1301 889 \n",
       "Q 1547 409 2034 409 \n",
       "Q 2525 409 2770 889 \n",
       "Q 3016 1369 3016 2328 \n",
       "Q 3016 3291 2770 3770 \n",
       "Q 2525 4250 2034 4250 \n",
       "z\n",
       "M 2034 4750 \n",
       "Q 2819 4750 3233 4129 \n",
       "Q 3647 3509 3647 2328 \n",
       "Q 3647 1150 3233 529 \n",
       "Q 2819 -91 2034 -91 \n",
       "Q 1250 -91 836 529 \n",
       "Q 422 1150 422 2328 \n",
       "Q 422 3509 836 4129 \n",
       "Q 1250 4750 2034 4750 \n",
       "z\n",
       "\" transform=\"scale(0.015625)\"/>\n",
       "        <path id=\"DejaVuSans-2e\" d=\"M 684 794 \n",
       "L 1344 794 \n",
       "L 1344 0 \n",
       "L 684 0 \n",
       "L 684 794 \n",
       "z\n",
       "\" transform=\"scale(0.015625)\"/>\n",
       "       </defs>\n",
       "       <use xlink:href=\"#DejaVuSans-2212\"/>\n",
       "       <use xlink:href=\"#DejaVuSans-31\" x=\"83.789062\"/>\n",
       "       <use xlink:href=\"#DejaVuSans-30\" x=\"147.412109\"/>\n",
       "       <use xlink:href=\"#DejaVuSans-2e\" x=\"211.035156\"/>\n",
       "       <use xlink:href=\"#DejaVuSans-30\" x=\"242.822266\"/>\n",
       "      </g>\n",
       "     </g>\n",
       "    </g>\n",
       "    <g id=\"xtick_2\">\n",
       "     <g id=\"line2d_3\">\n",
       "      <path d=\"M 147.296165 299.518125 \n",
       "L 147.296165 22.318125 \n",
       "\" clip-path=\"url(#pc972f8010d)\" style=\"fill: none; stroke: #b0b0b0; stroke-width: 0.8; stroke-linecap: square\"/>\n",
       "     </g>\n",
       "     <g id=\"line2d_4\">\n",
       "      <g>\n",
       "       <use xlink:href=\"#mc9b96e2a31\" x=\"147.296165\" y=\"299.518125\" style=\"stroke: #000000; stroke-width: 0.8\"/>\n",
       "      </g>\n",
       "     </g>\n",
       "     <g id=\"text_2\">\n",
       "      <!-- −7.5 -->\n",
       "      <g transform=\"translate(135.154759 314.116563)scale(0.1 -0.1)\">\n",
       "       <defs>\n",
       "        <path id=\"DejaVuSans-37\" d=\"M 525 4666 \n",
       "L 3525 4666 \n",
       "L 3525 4397 \n",
       "L 1831 0 \n",
       "L 1172 0 \n",
       "L 2766 4134 \n",
       "L 525 4134 \n",
       "L 525 4666 \n",
       "z\n",
       "\" transform=\"scale(0.015625)\"/>\n",
       "        <path id=\"DejaVuSans-35\" d=\"M 691 4666 \n",
       "L 3169 4666 \n",
       "L 3169 4134 \n",
       "L 1269 4134 \n",
       "L 1269 2991 \n",
       "Q 1406 3038 1543 3061 \n",
       "Q 1681 3084 1819 3084 \n",
       "Q 2600 3084 3056 2656 \n",
       "Q 3513 2228 3513 1497 \n",
       "Q 3513 744 3044 326 \n",
       "Q 2575 -91 1722 -91 \n",
       "Q 1428 -91 1123 -41 \n",
       "Q 819 9 494 109 \n",
       "L 494 744 \n",
       "Q 775 591 1075 516 \n",
       "Q 1375 441 1709 441 \n",
       "Q 2250 441 2565 725 \n",
       "Q 2881 1009 2881 1497 \n",
       "Q 2881 1984 2565 2268 \n",
       "Q 2250 2553 1709 2553 \n",
       "Q 1456 2553 1204 2497 \n",
       "Q 953 2441 691 2322 \n",
       "L 691 4666 \n",
       "z\n",
       "\" transform=\"scale(0.015625)\"/>\n",
       "       </defs>\n",
       "       <use xlink:href=\"#DejaVuSans-2212\"/>\n",
       "       <use xlink:href=\"#DejaVuSans-37\" x=\"83.789062\"/>\n",
       "       <use xlink:href=\"#DejaVuSans-2e\" x=\"147.412109\"/>\n",
       "       <use xlink:href=\"#DejaVuSans-35\" x=\"179.199219\"/>\n",
       "      </g>\n",
       "     </g>\n",
       "    </g>\n",
       "    <g id=\"xtick_3\">\n",
       "     <g id=\"line2d_5\">\n",
       "      <path d=\"M 210.705256 299.518125 \n",
       "L 210.705256 22.318125 \n",
       "\" clip-path=\"url(#pc972f8010d)\" style=\"fill: none; stroke: #b0b0b0; stroke-width: 0.8; stroke-linecap: square\"/>\n",
       "     </g>\n",
       "     <g id=\"line2d_6\">\n",
       "      <g>\n",
       "       <use xlink:href=\"#mc9b96e2a31\" x=\"210.705256\" y=\"299.518125\" style=\"stroke: #000000; stroke-width: 0.8\"/>\n",
       "      </g>\n",
       "     </g>\n",
       "     <g id=\"text_3\">\n",
       "      <!-- −5.0 -->\n",
       "      <g transform=\"translate(198.563849 314.116563)scale(0.1 -0.1)\">\n",
       "       <use xlink:href=\"#DejaVuSans-2212\"/>\n",
       "       <use xlink:href=\"#DejaVuSans-35\" x=\"83.789062\"/>\n",
       "       <use xlink:href=\"#DejaVuSans-2e\" x=\"147.412109\"/>\n",
       "       <use xlink:href=\"#DejaVuSans-30\" x=\"179.199219\"/>\n",
       "      </g>\n",
       "     </g>\n",
       "    </g>\n",
       "    <g id=\"xtick_4\">\n",
       "     <g id=\"line2d_7\">\n",
       "      <path d=\"M 274.114347 299.518125 \n",
       "L 274.114347 22.318125 \n",
       "\" clip-path=\"url(#pc972f8010d)\" style=\"fill: none; stroke: #b0b0b0; stroke-width: 0.8; stroke-linecap: square\"/>\n",
       "     </g>\n",
       "     <g id=\"line2d_8\">\n",
       "      <g>\n",
       "       <use xlink:href=\"#mc9b96e2a31\" x=\"274.114347\" y=\"299.518125\" style=\"stroke: #000000; stroke-width: 0.8\"/>\n",
       "      </g>\n",
       "     </g>\n",
       "     <g id=\"text_4\">\n",
       "      <!-- −2.5 -->\n",
       "      <g transform=\"translate(261.97294 314.116563)scale(0.1 -0.1)\">\n",
       "       <defs>\n",
       "        <path id=\"DejaVuSans-32\" d=\"M 1228 531 \n",
       "L 3431 531 \n",
       "L 3431 0 \n",
       "L 469 0 \n",
       "L 469 531 \n",
       "Q 828 903 1448 1529 \n",
       "Q 2069 2156 2228 2338 \n",
       "Q 2531 2678 2651 2914 \n",
       "Q 2772 3150 2772 3378 \n",
       "Q 2772 3750 2511 3984 \n",
       "Q 2250 4219 1831 4219 \n",
       "Q 1534 4219 1204 4116 \n",
       "Q 875 4013 500 3803 \n",
       "L 500 4441 \n",
       "Q 881 4594 1212 4672 \n",
       "Q 1544 4750 1819 4750 \n",
       "Q 2544 4750 2975 4387 \n",
       "Q 3406 4025 3406 3419 \n",
       "Q 3406 3131 3298 2873 \n",
       "Q 3191 2616 2906 2266 \n",
       "Q 2828 2175 2409 1742 \n",
       "Q 1991 1309 1228 531 \n",
       "z\n",
       "\" transform=\"scale(0.015625)\"/>\n",
       "       </defs>\n",
       "       <use xlink:href=\"#DejaVuSans-2212\"/>\n",
       "       <use xlink:href=\"#DejaVuSans-32\" x=\"83.789062\"/>\n",
       "       <use xlink:href=\"#DejaVuSans-2e\" x=\"147.412109\"/>\n",
       "       <use xlink:href=\"#DejaVuSans-35\" x=\"179.199219\"/>\n",
       "      </g>\n",
       "     </g>\n",
       "    </g>\n",
       "    <g id=\"xtick_5\">\n",
       "     <g id=\"line2d_9\">\n",
       "      <path d=\"M 337.523438 299.518125 \n",
       "L 337.523438 22.318125 \n",
       "\" clip-path=\"url(#pc972f8010d)\" style=\"fill: none; stroke: #b0b0b0; stroke-width: 0.8; stroke-linecap: square\"/>\n",
       "     </g>\n",
       "     <g id=\"line2d_10\">\n",
       "      <g>\n",
       "       <use xlink:href=\"#mc9b96e2a31\" x=\"337.523438\" y=\"299.518125\" style=\"stroke: #000000; stroke-width: 0.8\"/>\n",
       "      </g>\n",
       "     </g>\n",
       "     <g id=\"text_5\">\n",
       "      <!-- 0.0 -->\n",
       "      <g transform=\"translate(329.571875 314.116563)scale(0.1 -0.1)\">\n",
       "       <use xlink:href=\"#DejaVuSans-30\"/>\n",
       "       <use xlink:href=\"#DejaVuSans-2e\" x=\"63.623047\"/>\n",
       "       <use xlink:href=\"#DejaVuSans-30\" x=\"95.410156\"/>\n",
       "      </g>\n",
       "     </g>\n",
       "    </g>\n",
       "    <g id=\"xtick_6\">\n",
       "     <g id=\"line2d_11\">\n",
       "      <path d=\"M 400.932528 299.518125 \n",
       "L 400.932528 22.318125 \n",
       "\" clip-path=\"url(#pc972f8010d)\" style=\"fill: none; stroke: #b0b0b0; stroke-width: 0.8; stroke-linecap: square\"/>\n",
       "     </g>\n",
       "     <g id=\"line2d_12\">\n",
       "      <g>\n",
       "       <use xlink:href=\"#mc9b96e2a31\" x=\"400.932528\" y=\"299.518125\" style=\"stroke: #000000; stroke-width: 0.8\"/>\n",
       "      </g>\n",
       "     </g>\n",
       "     <g id=\"text_6\">\n",
       "      <!-- 2.5 -->\n",
       "      <g transform=\"translate(392.980966 314.116563)scale(0.1 -0.1)\">\n",
       "       <use xlink:href=\"#DejaVuSans-32\"/>\n",
       "       <use xlink:href=\"#DejaVuSans-2e\" x=\"63.623047\"/>\n",
       "       <use xlink:href=\"#DejaVuSans-35\" x=\"95.410156\"/>\n",
       "      </g>\n",
       "     </g>\n",
       "    </g>\n",
       "    <g id=\"xtick_7\">\n",
       "     <g id=\"line2d_13\">\n",
       "      <path d=\"M 464.341619 299.518125 \n",
       "L 464.341619 22.318125 \n",
       "\" clip-path=\"url(#pc972f8010d)\" style=\"fill: none; stroke: #b0b0b0; stroke-width: 0.8; stroke-linecap: square\"/>\n",
       "     </g>\n",
       "     <g id=\"line2d_14\">\n",
       "      <g>\n",
       "       <use xlink:href=\"#mc9b96e2a31\" x=\"464.341619\" y=\"299.518125\" style=\"stroke: #000000; stroke-width: 0.8\"/>\n",
       "      </g>\n",
       "     </g>\n",
       "     <g id=\"text_7\">\n",
       "      <!-- 5.0 -->\n",
       "      <g transform=\"translate(456.390057 314.116563)scale(0.1 -0.1)\">\n",
       "       <use xlink:href=\"#DejaVuSans-35\"/>\n",
       "       <use xlink:href=\"#DejaVuSans-2e\" x=\"63.623047\"/>\n",
       "       <use xlink:href=\"#DejaVuSans-30\" x=\"95.410156\"/>\n",
       "      </g>\n",
       "     </g>\n",
       "    </g>\n",
       "    <g id=\"xtick_8\">\n",
       "     <g id=\"line2d_15\">\n",
       "      <path d=\"M 527.75071 299.518125 \n",
       "L 527.75071 22.318125 \n",
       "\" clip-path=\"url(#pc972f8010d)\" style=\"fill: none; stroke: #b0b0b0; stroke-width: 0.8; stroke-linecap: square\"/>\n",
       "     </g>\n",
       "     <g id=\"line2d_16\">\n",
       "      <g>\n",
       "       <use xlink:href=\"#mc9b96e2a31\" x=\"527.75071\" y=\"299.518125\" style=\"stroke: #000000; stroke-width: 0.8\"/>\n",
       "      </g>\n",
       "     </g>\n",
       "     <g id=\"text_8\">\n",
       "      <!-- 7.5 -->\n",
       "      <g transform=\"translate(519.799148 314.116563)scale(0.1 -0.1)\">\n",
       "       <use xlink:href=\"#DejaVuSans-37\"/>\n",
       "       <use xlink:href=\"#DejaVuSans-2e\" x=\"63.623047\"/>\n",
       "       <use xlink:href=\"#DejaVuSans-35\" x=\"95.410156\"/>\n",
       "      </g>\n",
       "     </g>\n",
       "    </g>\n",
       "    <g id=\"xtick_9\">\n",
       "     <g id=\"line2d_17\">\n",
       "      <path d=\"M 591.159801 299.518125 \n",
       "L 591.159801 22.318125 \n",
       "\" clip-path=\"url(#pc972f8010d)\" style=\"fill: none; stroke: #b0b0b0; stroke-width: 0.8; stroke-linecap: square\"/>\n",
       "     </g>\n",
       "     <g id=\"line2d_18\">\n",
       "      <g>\n",
       "       <use xlink:href=\"#mc9b96e2a31\" x=\"591.159801\" y=\"299.518125\" style=\"stroke: #000000; stroke-width: 0.8\"/>\n",
       "      </g>\n",
       "     </g>\n",
       "     <g id=\"text_9\">\n",
       "      <!-- 10.0 -->\n",
       "      <g transform=\"translate(580.026989 314.116563)scale(0.1 -0.1)\">\n",
       "       <use xlink:href=\"#DejaVuSans-31\"/>\n",
       "       <use xlink:href=\"#DejaVuSans-30\" x=\"63.623047\"/>\n",
       "       <use xlink:href=\"#DejaVuSans-2e\" x=\"127.246094\"/>\n",
       "       <use xlink:href=\"#DejaVuSans-30\" x=\"159.033203\"/>\n",
       "      </g>\n",
       "     </g>\n",
       "    </g>\n",
       "    <g id=\"text_10\">\n",
       "     <!-- x -->\n",
       "     <g transform=\"translate(334.564062 327.794688)scale(0.1 -0.1)\">\n",
       "      <defs>\n",
       "       <path id=\"DejaVuSans-78\" d=\"M 3513 3500 \n",
       "L 2247 1797 \n",
       "L 3578 0 \n",
       "L 2900 0 \n",
       "L 1881 1375 \n",
       "L 863 0 \n",
       "L 184 0 \n",
       "L 1544 1831 \n",
       "L 300 3500 \n",
       "L 978 3500 \n",
       "L 1906 2253 \n",
       "L 2834 3500 \n",
       "L 3513 3500 \n",
       "z\n",
       "\" transform=\"scale(0.015625)\"/>\n",
       "      </defs>\n",
       "      <use xlink:href=\"#DejaVuSans-78\"/>\n",
       "     </g>\n",
       "    </g>\n",
       "   </g>\n",
       "   <g id=\"matplotlib.axis_2\">\n",
       "    <g id=\"ytick_1\">\n",
       "     <g id=\"line2d_19\">\n",
       "      <path d=\"M 58.523438 286.918163 \n",
       "L 616.523438 286.918163 \n",
       "\" clip-path=\"url(#pc972f8010d)\" style=\"fill: none; stroke: #b0b0b0; stroke-width: 0.8; stroke-linecap: square\"/>\n",
       "     </g>\n",
       "     <g id=\"line2d_20\">\n",
       "      <defs>\n",
       "       <path id=\"m8373d93966\" d=\"M 0 0 \n",
       "L -3.5 0 \n",
       "\" style=\"stroke: #000000; stroke-width: 0.8\"/>\n",
       "      </defs>\n",
       "      <g>\n",
       "       <use xlink:href=\"#m8373d93966\" x=\"58.523438\" y=\"286.918163\" style=\"stroke: #000000; stroke-width: 0.8\"/>\n",
       "      </g>\n",
       "     </g>\n",
       "     <g id=\"text_11\">\n",
       "      <!-- −1.00 -->\n",
       "      <g transform=\"translate(20.878125 290.717381)scale(0.1 -0.1)\">\n",
       "       <use xlink:href=\"#DejaVuSans-2212\"/>\n",
       "       <use xlink:href=\"#DejaVuSans-31\" x=\"83.789062\"/>\n",
       "       <use xlink:href=\"#DejaVuSans-2e\" x=\"147.412109\"/>\n",
       "       <use xlink:href=\"#DejaVuSans-30\" x=\"179.199219\"/>\n",
       "       <use xlink:href=\"#DejaVuSans-30\" x=\"242.822266\"/>\n",
       "      </g>\n",
       "     </g>\n",
       "    </g>\n",
       "    <g id=\"ytick_2\">\n",
       "     <g id=\"line2d_21\">\n",
       "      <path d=\"M 58.523438 255.418153 \n",
       "L 616.523438 255.418153 \n",
       "\" clip-path=\"url(#pc972f8010d)\" style=\"fill: none; stroke: #b0b0b0; stroke-width: 0.8; stroke-linecap: square\"/>\n",
       "     </g>\n",
       "     <g id=\"line2d_22\">\n",
       "      <g>\n",
       "       <use xlink:href=\"#m8373d93966\" x=\"58.523438\" y=\"255.418153\" style=\"stroke: #000000; stroke-width: 0.8\"/>\n",
       "      </g>\n",
       "     </g>\n",
       "     <g id=\"text_12\">\n",
       "      <!-- −0.75 -->\n",
       "      <g transform=\"translate(20.878125 259.217372)scale(0.1 -0.1)\">\n",
       "       <use xlink:href=\"#DejaVuSans-2212\"/>\n",
       "       <use xlink:href=\"#DejaVuSans-30\" x=\"83.789062\"/>\n",
       "       <use xlink:href=\"#DejaVuSans-2e\" x=\"147.412109\"/>\n",
       "       <use xlink:href=\"#DejaVuSans-37\" x=\"179.199219\"/>\n",
       "       <use xlink:href=\"#DejaVuSans-35\" x=\"242.822266\"/>\n",
       "      </g>\n",
       "     </g>\n",
       "    </g>\n",
       "    <g id=\"ytick_3\">\n",
       "     <g id=\"line2d_23\">\n",
       "      <path d=\"M 58.523438 223.918144 \n",
       "L 616.523438 223.918144 \n",
       "\" clip-path=\"url(#pc972f8010d)\" style=\"fill: none; stroke: #b0b0b0; stroke-width: 0.8; stroke-linecap: square\"/>\n",
       "     </g>\n",
       "     <g id=\"line2d_24\">\n",
       "      <g>\n",
       "       <use xlink:href=\"#m8373d93966\" x=\"58.523438\" y=\"223.918144\" style=\"stroke: #000000; stroke-width: 0.8\"/>\n",
       "      </g>\n",
       "     </g>\n",
       "     <g id=\"text_13\">\n",
       "      <!-- −0.50 -->\n",
       "      <g transform=\"translate(20.878125 227.717363)scale(0.1 -0.1)\">\n",
       "       <use xlink:href=\"#DejaVuSans-2212\"/>\n",
       "       <use xlink:href=\"#DejaVuSans-30\" x=\"83.789062\"/>\n",
       "       <use xlink:href=\"#DejaVuSans-2e\" x=\"147.412109\"/>\n",
       "       <use xlink:href=\"#DejaVuSans-35\" x=\"179.199219\"/>\n",
       "       <use xlink:href=\"#DejaVuSans-30\" x=\"242.822266\"/>\n",
       "      </g>\n",
       "     </g>\n",
       "    </g>\n",
       "    <g id=\"ytick_4\">\n",
       "     <g id=\"line2d_25\">\n",
       "      <path d=\"M 58.523438 192.418134 \n",
       "L 616.523438 192.418134 \n",
       "\" clip-path=\"url(#pc972f8010d)\" style=\"fill: none; stroke: #b0b0b0; stroke-width: 0.8; stroke-linecap: square\"/>\n",
       "     </g>\n",
       "     <g id=\"line2d_26\">\n",
       "      <g>\n",
       "       <use xlink:href=\"#m8373d93966\" x=\"58.523438\" y=\"192.418134\" style=\"stroke: #000000; stroke-width: 0.8\"/>\n",
       "      </g>\n",
       "     </g>\n",
       "     <g id=\"text_14\">\n",
       "      <!-- −0.25 -->\n",
       "      <g transform=\"translate(20.878125 196.217353)scale(0.1 -0.1)\">\n",
       "       <use xlink:href=\"#DejaVuSans-2212\"/>\n",
       "       <use xlink:href=\"#DejaVuSans-30\" x=\"83.789062\"/>\n",
       "       <use xlink:href=\"#DejaVuSans-2e\" x=\"147.412109\"/>\n",
       "       <use xlink:href=\"#DejaVuSans-32\" x=\"179.199219\"/>\n",
       "       <use xlink:href=\"#DejaVuSans-35\" x=\"242.822266\"/>\n",
       "      </g>\n",
       "     </g>\n",
       "    </g>\n",
       "    <g id=\"ytick_5\">\n",
       "     <g id=\"line2d_27\">\n",
       "      <path d=\"M 58.523438 160.918125 \n",
       "L 616.523438 160.918125 \n",
       "\" clip-path=\"url(#pc972f8010d)\" style=\"fill: none; stroke: #b0b0b0; stroke-width: 0.8; stroke-linecap: square\"/>\n",
       "     </g>\n",
       "     <g id=\"line2d_28\">\n",
       "      <g>\n",
       "       <use xlink:href=\"#m8373d93966\" x=\"58.523438\" y=\"160.918125\" style=\"stroke: #000000; stroke-width: 0.8\"/>\n",
       "      </g>\n",
       "     </g>\n",
       "     <g id=\"text_15\">\n",
       "      <!-- 0.00 -->\n",
       "      <g transform=\"translate(29.257812 164.717344)scale(0.1 -0.1)\">\n",
       "       <use xlink:href=\"#DejaVuSans-30\"/>\n",
       "       <use xlink:href=\"#DejaVuSans-2e\" x=\"63.623047\"/>\n",
       "       <use xlink:href=\"#DejaVuSans-30\" x=\"95.410156\"/>\n",
       "       <use xlink:href=\"#DejaVuSans-30\" x=\"159.033203\"/>\n",
       "      </g>\n",
       "     </g>\n",
       "    </g>\n",
       "    <g id=\"ytick_6\">\n",
       "     <g id=\"line2d_29\">\n",
       "      <path d=\"M 58.523438 129.418116 \n",
       "L 616.523438 129.418116 \n",
       "\" clip-path=\"url(#pc972f8010d)\" style=\"fill: none; stroke: #b0b0b0; stroke-width: 0.8; stroke-linecap: square\"/>\n",
       "     </g>\n",
       "     <g id=\"line2d_30\">\n",
       "      <g>\n",
       "       <use xlink:href=\"#m8373d93966\" x=\"58.523438\" y=\"129.418116\" style=\"stroke: #000000; stroke-width: 0.8\"/>\n",
       "      </g>\n",
       "     </g>\n",
       "     <g id=\"text_16\">\n",
       "      <!-- 0.25 -->\n",
       "      <g transform=\"translate(29.257812 133.217334)scale(0.1 -0.1)\">\n",
       "       <use xlink:href=\"#DejaVuSans-30\"/>\n",
       "       <use xlink:href=\"#DejaVuSans-2e\" x=\"63.623047\"/>\n",
       "       <use xlink:href=\"#DejaVuSans-32\" x=\"95.410156\"/>\n",
       "       <use xlink:href=\"#DejaVuSans-35\" x=\"159.033203\"/>\n",
       "      </g>\n",
       "     </g>\n",
       "    </g>\n",
       "    <g id=\"ytick_7\">\n",
       "     <g id=\"line2d_31\">\n",
       "      <path d=\"M 58.523438 97.918106 \n",
       "L 616.523438 97.918106 \n",
       "\" clip-path=\"url(#pc972f8010d)\" style=\"fill: none; stroke: #b0b0b0; stroke-width: 0.8; stroke-linecap: square\"/>\n",
       "     </g>\n",
       "     <g id=\"line2d_32\">\n",
       "      <g>\n",
       "       <use xlink:href=\"#m8373d93966\" x=\"58.523438\" y=\"97.918106\" style=\"stroke: #000000; stroke-width: 0.8\"/>\n",
       "      </g>\n",
       "     </g>\n",
       "     <g id=\"text_17\">\n",
       "      <!-- 0.50 -->\n",
       "      <g transform=\"translate(29.257812 101.717325)scale(0.1 -0.1)\">\n",
       "       <use xlink:href=\"#DejaVuSans-30\"/>\n",
       "       <use xlink:href=\"#DejaVuSans-2e\" x=\"63.623047\"/>\n",
       "       <use xlink:href=\"#DejaVuSans-35\" x=\"95.410156\"/>\n",
       "       <use xlink:href=\"#DejaVuSans-30\" x=\"159.033203\"/>\n",
       "      </g>\n",
       "     </g>\n",
       "    </g>\n",
       "    <g id=\"ytick_8\">\n",
       "     <g id=\"line2d_33\">\n",
       "      <path d=\"M 58.523438 66.418097 \n",
       "L 616.523438 66.418097 \n",
       "\" clip-path=\"url(#pc972f8010d)\" style=\"fill: none; stroke: #b0b0b0; stroke-width: 0.8; stroke-linecap: square\"/>\n",
       "     </g>\n",
       "     <g id=\"line2d_34\">\n",
       "      <g>\n",
       "       <use xlink:href=\"#m8373d93966\" x=\"58.523438\" y=\"66.418097\" style=\"stroke: #000000; stroke-width: 0.8\"/>\n",
       "      </g>\n",
       "     </g>\n",
       "     <g id=\"text_18\">\n",
       "      <!-- 0.75 -->\n",
       "      <g transform=\"translate(29.257812 70.217316)scale(0.1 -0.1)\">\n",
       "       <use xlink:href=\"#DejaVuSans-30\"/>\n",
       "       <use xlink:href=\"#DejaVuSans-2e\" x=\"63.623047\"/>\n",
       "       <use xlink:href=\"#DejaVuSans-37\" x=\"95.410156\"/>\n",
       "       <use xlink:href=\"#DejaVuSans-35\" x=\"159.033203\"/>\n",
       "      </g>\n",
       "     </g>\n",
       "    </g>\n",
       "    <g id=\"ytick_9\">\n",
       "     <g id=\"line2d_35\">\n",
       "      <path d=\"M 58.523438 34.918087 \n",
       "L 616.523438 34.918087 \n",
       "\" clip-path=\"url(#pc972f8010d)\" style=\"fill: none; stroke: #b0b0b0; stroke-width: 0.8; stroke-linecap: square\"/>\n",
       "     </g>\n",
       "     <g id=\"line2d_36\">\n",
       "      <g>\n",
       "       <use xlink:href=\"#m8373d93966\" x=\"58.523438\" y=\"34.918087\" style=\"stroke: #000000; stroke-width: 0.8\"/>\n",
       "      </g>\n",
       "     </g>\n",
       "     <g id=\"text_19\">\n",
       "      <!-- 1.00 -->\n",
       "      <g transform=\"translate(29.257812 38.717306)scale(0.1 -0.1)\">\n",
       "       <use xlink:href=\"#DejaVuSans-31\"/>\n",
       "       <use xlink:href=\"#DejaVuSans-2e\" x=\"63.623047\"/>\n",
       "       <use xlink:href=\"#DejaVuSans-30\" x=\"95.410156\"/>\n",
       "       <use xlink:href=\"#DejaVuSans-30\" x=\"159.033203\"/>\n",
       "      </g>\n",
       "     </g>\n",
       "    </g>\n",
       "    <g id=\"text_20\">\n",
       "     <!-- y -->\n",
       "     <g transform=\"translate(14.798437 163.8775)rotate(-90)scale(0.1 -0.1)\">\n",
       "      <defs>\n",
       "       <path id=\"DejaVuSans-79\" d=\"M 2059 -325 \n",
       "Q 1816 -950 1584 -1140 \n",
       "Q 1353 -1331 966 -1331 \n",
       "L 506 -1331 \n",
       "L 506 -850 \n",
       "L 844 -850 \n",
       "Q 1081 -850 1212 -737 \n",
       "Q 1344 -625 1503 -206 \n",
       "L 1606 56 \n",
       "L 191 3500 \n",
       "L 800 3500 \n",
       "L 1894 763 \n",
       "L 2988 3500 \n",
       "L 3597 3500 \n",
       "L 2059 -325 \n",
       "z\n",
       "\" transform=\"scale(0.015625)\"/>\n",
       "      </defs>\n",
       "      <use xlink:href=\"#DejaVuSans-79\"/>\n",
       "     </g>\n",
       "    </g>\n",
       "   </g>\n",
       "   <g id=\"line2d_37\">\n",
       "    <path d=\"M 83.887074 92.371442 \n",
       "L 86.933755 105.534315 \n",
       "L 90.488229 121.885856 \n",
       "L 95.058238 143.986976 \n",
       "L 107.244987 203.613826 \n",
       "L 110.799437 219.753884 \n",
       "L 113.846118 232.681511 \n",
       "L 116.892799 244.574922 \n",
       "L 119.431712 253.571954 \n",
       "L 121.970601 261.641282 \n",
       "L 124.001722 267.374266 \n",
       "L 126.032843 272.424935 \n",
       "L 128.063988 276.760964 \n",
       "L 129.587317 279.527012 \n",
       "L 131.110669 281.865384 \n",
       "L 132.633998 283.767564 \n",
       "L 134.15735 285.226763 \n",
       "L 135.172899 285.950768 \n",
       "L 136.188459 286.474356 \n",
       "L 137.20402 286.796678 \n",
       "L 138.219592 286.917216 \n",
       "L 139.235153 286.835776 \n",
       "L 140.250713 286.552492 \n",
       "L 141.266273 286.067822 \n",
       "L 142.281834 285.382539 \n",
       "L 143.297394 284.497734 \n",
       "L 144.820735 282.799628 \n",
       "L 146.344075 280.662011 \n",
       "L 147.867416 278.092573 \n",
       "L 149.390757 275.100597 \n",
       "L 150.914097 271.69686 \n",
       "L 152.945218 266.539457 \n",
       "L 154.976339 260.705092 \n",
       "L 157.00746 254.231146 \n",
       "L 159.546361 245.302907 \n",
       "L 162.085274 235.52978 \n",
       "L 165.131955 222.825216 \n",
       "L 168.686416 206.88921 \n",
       "L 172.748658 187.592002 \n",
       "L 179.857581 152.486367 \n",
       "L 185.950956 122.815741 \n",
       "L 190.013197 104.15015 \n",
       "L 193.059878 91.07969 \n",
       "L 196.10656 79.0157 \n",
       "L 198.645461 69.857147 \n",
       "L 201.184362 61.610255 \n",
       "L 203.215495 55.724927 \n",
       "L 205.246615 50.513855 \n",
       "L 207.277736 46.010409 \n",
       "L 208.801077 43.114744 \n",
       "L 210.324418 40.643892 \n",
       "L 211.847758 38.606761 \n",
       "L 213.371099 37.010704 \n",
       "L 214.386659 36.194609 \n",
       "L 215.40222 35.578451 \n",
       "L 216.41778 35.163205 \n",
       "L 217.43334 34.949548 \n",
       "L 218.448901 34.937809 \n",
       "L 219.464461 35.12802 \n",
       "L 220.480022 35.519871 \n",
       "L 221.495582 36.112733 \n",
       "L 222.511142 36.905659 \n",
       "L 224.034483 38.467297 \n",
       "L 225.557836 40.470519 \n",
       "L 227.081176 42.908078 \n",
       "L 228.604517 45.771202 \n",
       "L 230.127858 49.049549 \n",
       "L 232.158978 54.045964 \n",
       "L 234.190099 59.727361 \n",
       "L 236.22122 66.05733 \n",
       "L 238.760121 74.819661 \n",
       "L 241.299028 84.443996 \n",
       "L 244.345709 96.994789 \n",
       "L 247.900171 112.78824 \n",
       "L 251.962419 131.974516 \n",
       "L 258.563561 164.506026 \n",
       "L 265.16471 196.795909 \n",
       "L 269.226952 215.598925 \n",
       "L 272.273633 228.807764 \n",
       "L 275.32032 241.038232 \n",
       "L 277.859221 250.355243 \n",
       "L 280.398122 258.776837 \n",
       "L 282.429243 264.812436 \n",
       "L 284.46037 270.182145 \n",
       "L 286.491491 274.851529 \n",
       "L 288.014831 277.875807 \n",
       "L 289.538172 280.478319 \n",
       "L 291.061512 282.64968 \n",
       "L 292.584856 284.38207 \n",
       "L 294.108197 285.669226 \n",
       "L 295.123757 286.277626 \n",
       "L 296.139318 286.685069 \n",
       "L 297.154878 286.890916 \n",
       "L 298.170441 286.894828 \n",
       "L 299.186002 286.6968 \n",
       "L 300.201562 286.297153 \n",
       "L 301.217123 285.696525 \n",
       "L 302.232683 284.895879 \n",
       "L 303.756027 283.322758 \n",
       "L 305.279367 281.30824 \n",
       "L 306.802708 278.859581 \n",
       "L 308.326048 275.985605 \n",
       "L 309.849392 272.696684 \n",
       "L 311.880513 267.68669 \n",
       "L 313.911635 261.992376 \n",
       "L 315.942758 255.650233 \n",
       "L 318.48166 246.87385 \n",
       "L 321.020563 237.236913 \n",
       "L 324.067245 224.673053 \n",
       "L 327.621708 208.867413 \n",
       "L 331.683952 189.671591 \n",
       "L 338.285118 157.134861 \n",
       "L 344.886264 124.853041 \n",
       "L 348.948508 106.061309 \n",
       "L 351.995191 92.863915 \n",
       "L 355.041874 80.647281 \n",
       "L 357.580777 71.343451 \n",
       "L 360.119679 62.936411 \n",
       "L 362.1508 56.913361 \n",
       "L 364.181922 51.556915 \n",
       "L 366.213043 46.901403 \n",
       "L 367.736387 43.88788 \n",
       "L 369.259728 41.296392 \n",
       "L 370.783068 39.136274 \n",
       "L 372.306412 37.415315 \n",
       "L 373.829752 36.139725 \n",
       "L 374.845313 35.539097 \n",
       "L 375.860873 35.13945 \n",
       "L 376.876434 34.941422 \n",
       "L 377.891997 34.945334 \n",
       "L 378.907557 35.151181 \n",
       "L 379.923118 35.558624 \n",
       "L 380.938678 36.167024 \n",
       "L 381.954239 36.975398 \n",
       "L 383.477582 38.559988 \n",
       "L 385.000923 40.585823 \n",
       "L 386.524264 43.045582 \n",
       "L 388.047604 45.930411 \n",
       "L 389.570945 49.229899 \n",
       "L 391.602072 54.253478 \n",
       "L 393.633192 59.960695 \n",
       "L 395.664313 66.314997 \n",
       "L 398.203214 75.105394 \n",
       "L 400.742115 84.754926 \n",
       "L 403.788803 97.331861 \n",
       "L 407.343264 113.14963 \n",
       "L 411.405506 132.354967 \n",
       "L 418.006654 164.896642 \n",
       "L 424.607803 197.170348 \n",
       "L 428.670045 215.950736 \n",
       "L 431.716726 229.13665 \n",
       "L 434.763413 241.339458 \n",
       "L 437.302314 250.630078 \n",
       "L 439.841215 259.022532 \n",
       "L 441.872336 265.033033 \n",
       "L 443.903457 270.376224 \n",
       "L 445.934578 275.01785 \n",
       "L 447.457918 278.020603 \n",
       "L 448.981259 280.601066 \n",
       "L 450.504612 282.749956 \n",
       "L 452.027952 284.459492 \n",
       "L 453.551293 285.723517 \n",
       "L 454.566853 286.316379 \n",
       "L 455.582414 286.70823 \n",
       "L 456.597974 286.898441 \n",
       "L 457.613535 286.886702 \n",
       "L 458.629095 286.673045 \n",
       "L 459.644655 286.257799 \n",
       "L 460.660216 285.641641 \n",
       "L 461.675776 284.825546 \n",
       "L 463.199117 283.229489 \n",
       "L 464.722457 281.192358 \n",
       "L 466.245798 278.721506 \n",
       "L 467.769139 275.825841 \n",
       "L 469.292479 272.515801 \n",
       "L 471.3236 267.478681 \n",
       "L 473.354733 261.758539 \n",
       "L 475.385854 255.3921 \n",
       "L 477.924755 246.587697 \n",
       "L 480.463656 236.925601 \n",
       "L 483.510337 224.335673 \n",
       "L 487.064799 208.505808 \n",
       "L 491.12704 189.290999 \n",
       "L 497.728195 156.744344 \n",
       "L 504.329338 124.478868 \n",
       "L 508.391579 105.709862 \n",
       "L 511.438261 92.53545 \n",
       "L 514.484942 80.346543 \n",
       "L 517.023855 71.069096 \n",
       "L 519.562756 62.691241 \n",
       "L 521.593877 56.693305 \n",
       "L 523.624998 51.363393 \n",
       "L 525.656118 46.735653 \n",
       "L 527.179459 43.743677 \n",
       "L 528.7028 41.174239 \n",
       "L 530.22614 39.036622 \n",
       "L 531.749481 37.338516 \n",
       "L 533.272821 36.086057 \n",
       "L 534.288382 35.500961 \n",
       "L 535.303942 35.116905 \n",
       "L 536.319503 34.934505 \n",
       "L 537.335075 34.954061 \n",
       "L 538.350636 35.175537 \n",
       "L 539.366196 35.598578 \n",
       "L 540.381756 36.222502 \n",
       "L 541.397317 37.046309 \n",
       "L 542.920645 38.65382 \n",
       "L 544.443998 40.702261 \n",
       "L 545.967327 43.184175 \n",
       "L 547.490679 46.0907 \n",
       "L 549.014032 49.411315 \n",
       "L 551.045153 54.461984 \n",
       "L 553.076274 60.194968 \n",
       "L 555.107394 66.573535 \n",
       "L 557.646283 75.39187 \n",
       "L 560.185197 85.066561 \n",
       "L 563.231878 97.669466 \n",
       "L 566.786327 113.51134 \n",
       "L 570.848593 132.735692 \n",
       "L 577.449724 165.2871 \n",
       "L 584.050878 197.544356 \n",
       "L 588.11312 216.301935 \n",
       "L 591.159801 229.464808 \n",
       "L 591.159801 229.464808 \n",
       "\" clip-path=\"url(#pc972f8010d)\" style=\"fill: none; stroke: #1f77b4; stroke-width: 1.5; stroke-linecap: square\"/>\n",
       "   </g>\n",
       "   <g id=\"line2d_38\">\n",
       "    <path d=\"M 83.887074 266.641167 \n",
       "L 85.918195 271.785713 \n",
       "L 87.949316 276.219668 \n",
       "L 89.472668 279.061553 \n",
       "L 90.995997 281.477362 \n",
       "L 92.519349 283.458444 \n",
       "L 94.042678 284.997612 \n",
       "L 95.058238 285.775427 \n",
       "L 96.073799 286.353096 \n",
       "L 97.089359 286.729694 \n",
       "L 98.10492 286.904622 \n",
       "L 99.12048 286.877593 \n",
       "L 100.13604 286.648644 \n",
       "L 101.151601 286.218161 \n",
       "L 102.167161 285.586817 \n",
       "L 103.182722 284.755634 \n",
       "L 104.706074 283.137144 \n",
       "L 106.229427 281.07791 \n",
       "L 107.752756 278.585392 \n",
       "L 109.276108 275.668518 \n",
       "L 110.799437 272.337885 \n",
       "L 112.830558 267.274283 \n",
       "L 114.861678 261.529005 \n",
       "L 116.892799 255.138872 \n",
       "L 119.431712 246.307102 \n",
       "L 121.970601 236.620537 \n",
       "L 125.017283 224.005254 \n",
       "L 128.571756 208.151778 \n",
       "L 132.633998 188.918569 \n",
       "L 139.235153 156.36246 \n",
       "L 145.836295 124.11325 \n",
       "L 149.898537 105.366635 \n",
       "L 152.945218 92.214825 \n",
       "L 155.991899 80.053135 \n",
       "L 158.5308 70.801666 \n",
       "L 161.069713 62.452372 \n",
       "L 163.100834 56.479062 \n",
       "L 165.131955 51.175142 \n",
       "L 167.163076 46.574612 \n",
       "L 168.686416 43.603724 \n",
       "L 170.209757 41.055886 \n",
       "L 171.733098 38.940281 \n",
       "L 173.256438 37.264548 \n",
       "L 174.779779 36.034725 \n",
       "L 175.795339 35.464822 \n",
       "L 176.8109 35.096026 \n",
       "L 177.82646 34.928917 \n",
       "L 178.842021 34.963772 \n",
       "L 179.857581 35.200523 \n",
       "L 180.873141 35.638803 \n",
       "L 181.888714 36.277912 \n",
       "L 182.904274 37.116815 \n",
       "L 184.427615 38.746751 \n",
       "L 185.950956 40.817257 \n",
       "L 187.474296 43.320861 \n",
       "L 188.997637 46.248535 \n",
       "L 190.520977 49.589727 \n",
       "L 192.552098 54.666846 \n",
       "L 194.583219 60.424975 \n",
       "L 196.61434 66.827199 \n",
       "L 199.153241 75.672863 \n",
       "L 201.692142 85.371978 \n",
       "L 204.738835 98.000241 \n",
       "L 208.293297 113.865648 \n",
       "L 212.355538 133.108196 \n",
       "L 218.956681 165.668963 \n",
       "L 225.557836 197.909801 \n",
       "L 229.620077 216.644903 \n",
       "L 232.666759 229.78511 \n",
       "L 235.71344 241.932846 \n",
       "L 238.252341 251.171022 \n",
       "L 240.791242 259.505618 \n",
       "L 242.822369 265.466341 \n",
       "L 244.85349 270.756945 \n",
       "L 246.88461 275.343559 \n",
       "L 248.407951 278.303655 \n",
       "L 249.931292 280.840446 \n",
       "L 251.454632 282.944785 \n",
       "L 252.977979 284.60908 \n",
       "L 253.993539 285.471115 \n",
       "L 255.0091 286.133483 \n",
       "L 256.02466 286.595142 \n",
       "L 257.040221 286.855332 \n",
       "L 258.055781 286.913656 \n",
       "L 259.071341 286.770002 \n",
       "L 260.086902 286.424616 \n",
       "L 261.102462 285.878039 \n",
       "L 262.118023 285.131159 \n",
       "L 263.133589 284.185153 \n",
       "L 264.65693 282.396226 \n",
       "L 266.18027 280.169238 \n",
       "L 267.703611 277.512208 \n",
       "L 269.226952 274.434729 \n",
       "L 271.258072 269.696784 \n",
       "L 273.289193 264.261632 \n",
       "L 275.32032 258.164088 \n",
       "L 277.351441 251.443281 \n",
       "L 279.890342 242.231758 \n",
       "L 282.429243 232.206146 \n",
       "L 285.47593 219.242639 \n",
       "L 289.030392 203.070036 \n",
       "L 293.600416 181.108607 \n",
       "L 307.310488 114.228382 \n",
       "L 310.864953 98.339101 \n",
       "L 313.911635 85.685115 \n",
       "L 316.450538 75.961067 \n",
       "L 318.98944 67.087577 \n",
       "L 321.020563 60.6612 \n",
       "L 323.051684 54.87741 \n",
       "L 325.082806 49.773276 \n",
       "L 327.113928 45.381506 \n",
       "L 328.63727 42.57229 \n",
       "L 330.160611 40.189841 \n",
       "L 331.683952 38.24275 \n",
       "L 333.207294 36.738046 \n",
       "L 334.222855 35.983423 \n",
       "L 335.238416 35.429066 \n",
       "L 336.253977 35.075876 \n",
       "L 337.269538 34.924404 \n",
       "L 338.285118 34.974902 \n",
       "L 339.300679 35.227282 \n",
       "L 340.31624 35.681153 \n",
       "L 341.331801 36.335771 \n",
       "L 342.347362 37.190092 \n",
       "L 343.870703 38.842941 \n",
       "L 345.394044 40.936008 \n",
       "L 346.917386 43.461744 \n",
       "L 348.440728 46.411048 \n",
       "L 349.964069 49.773276 \n",
       "L 351.995191 54.87741 \n",
       "L 354.026312 60.6612 \n",
       "L 356.057435 67.087577 \n",
       "L 358.596337 75.961067 \n",
       "L 361.13524 85.685115 \n",
       "L 364.181922 98.339101 \n",
       "L 367.736387 114.228382 \n",
       "L 371.798632 133.489484 \n",
       "L 378.907557 168.578691 \n",
       "L 385.000923 198.283163 \n",
       "L 389.063165 216.995099 \n",
       "L 392.109852 230.112036 \n",
       "L 395.156533 242.231758 \n",
       "L 397.695434 251.443281 \n",
       "L 400.234335 259.748505 \n",
       "L 402.265462 265.683949 \n",
       "L 404.296583 270.947899 \n",
       "L 406.327704 275.50662 \n",
       "L 407.851044 278.445109 \n",
       "L 409.374385 280.959775 \n",
       "L 410.897726 283.041561 \n",
       "L 412.421072 284.682958 \n",
       "L 413.436633 285.529566 \n",
       "L 414.452193 286.176426 \n",
       "L 415.467753 286.622501 \n",
       "L 416.483314 286.867071 \n",
       "L 417.498874 286.909744 \n",
       "L 418.514435 286.750453 \n",
       "L 419.529995 286.389453 \n",
       "L 420.545555 285.82733 \n",
       "L 421.561116 285.064979 \n",
       "L 423.084456 283.548777 \n",
       "L 424.607803 281.590353 \n",
       "L 426.131144 279.196766 \n",
       "L 427.654484 276.376661 \n",
       "L 429.177825 273.140198 \n",
       "L 431.208946 268.197623 \n",
       "L 433.240067 262.567461 \n",
       "L 435.271194 256.28576 \n",
       "L 437.810095 247.579192 \n",
       "L 440.348996 238.005002 \n",
       "L 443.395677 225.506233 \n",
       "L 446.442358 212.076651 \n",
       "L 450.504612 193.05866 \n",
       "L 456.090194 165.668963 \n",
       "L 464.214677 125.781837 \n",
       "L 468.276919 106.934597 \n",
       "L 471.83138 91.561078 \n",
       "L 474.878074 79.455354 \n",
       "L 477.416975 70.257185 \n",
       "L 479.955876 61.966681 \n",
       "L 481.986997 56.043907 \n",
       "L 484.018117 50.793302 \n",
       "L 486.049238 46.248535 \n",
       "L 487.572579 43.320861 \n",
       "L 489.095919 40.817257 \n",
       "L 490.61926 38.746751 \n",
       "L 492.142601 37.116815 \n",
       "L 493.158161 36.277912 \n",
       "L 494.173734 35.638803 \n",
       "L 495.189294 35.200523 \n",
       "L 496.204854 34.963772 \n",
       "L 497.220415 34.928917 \n",
       "L 498.235975 35.096026 \n",
       "L 499.251536 35.464822 \n",
       "L 500.267096 36.034725 \n",
       "L 501.282656 36.804804 \n",
       "L 502.805997 38.332497 \n",
       "L 504.329338 40.302246 \n",
       "L 505.852678 42.706948 \n",
       "L 507.376019 45.537943 \n",
       "L 508.89936 48.785003 \n",
       "L 510.93048 53.741201 \n",
       "L 512.961601 59.384341 \n",
       "L 514.992722 65.678246 \n",
       "L 517.531635 74.398978 \n",
       "L 520.070536 83.985875 \n",
       "L 523.117217 96.49784 \n",
       "L 526.163899 109.938199 \n",
       "L 530.22614 128.966475 \n",
       "L 535.811722 156.36246 \n",
       "L 543.936206 196.241931 \n",
       "L 547.998472 215.078169 \n",
       "L 551.552921 230.438196 \n",
       "L 554.599602 242.529793 \n",
       "L 557.138515 251.714632 \n",
       "L 559.677404 259.990355 \n",
       "L 561.708525 265.900475 \n",
       "L 563.739646 271.137712 \n",
       "L 565.770767 275.668518 \n",
       "L 567.294119 278.585392 \n",
       "L 568.817448 281.07791 \n",
       "L 570.340801 283.137144 \n",
       "L 571.864153 284.755634 \n",
       "L 572.879714 285.586817 \n",
       "L 573.895274 286.218161 \n",
       "L 574.910835 286.648644 \n",
       "L 575.926395 286.877593 \n",
       "L 576.941955 286.904622 \n",
       "L 577.957516 286.729694 \n",
       "L 578.973076 286.353096 \n",
       "L 579.988637 285.775427 \n",
       "L 581.004197 284.997612 \n",
       "L 582.527526 283.458444 \n",
       "L 584.050878 281.477362 \n",
       "L 585.574207 279.061553 \n",
       "L 587.097559 276.219668 \n",
       "L 588.620888 272.962041 \n",
       "L 590.652009 267.992227 \n",
       "L 591.159801 266.641167 \n",
       "L 591.159801 266.641167 \n",
       "\" clip-path=\"url(#pc972f8010d)\" style=\"fill: none; stroke: #ff7f0e; stroke-width: 1.5; stroke-linecap: square\"/>\n",
       "   </g>\n",
       "   <g id=\"patch_3\">\n",
       "    <path d=\"M 58.523438 299.518125 \n",
       "L 58.523438 22.318125 \n",
       "\" style=\"fill: none; stroke: #000000; stroke-width: 0.8; stroke-linejoin: miter; stroke-linecap: square\"/>\n",
       "   </g>\n",
       "   <g id=\"patch_4\">\n",
       "    <path d=\"M 616.523438 299.518125 \n",
       "L 616.523438 22.318125 \n",
       "\" style=\"fill: none; stroke: #000000; stroke-width: 0.8; stroke-linejoin: miter; stroke-linecap: square\"/>\n",
       "   </g>\n",
       "   <g id=\"patch_5\">\n",
       "    <path d=\"M 58.523438 299.518125 \n",
       "L 616.523438 299.518125 \n",
       "\" style=\"fill: none; stroke: #000000; stroke-width: 0.8; stroke-linejoin: miter; stroke-linecap: square\"/>\n",
       "   </g>\n",
       "   <g id=\"patch_6\">\n",
       "    <path d=\"M 58.523438 22.318125 \n",
       "L 616.523438 22.318125 \n",
       "\" style=\"fill: none; stroke: #000000; stroke-width: 0.8; stroke-linejoin: miter; stroke-linecap: square\"/>\n",
       "   </g>\n",
       "   <g id=\"text_21\">\n",
       "    <!-- Plot of f(x) = sin(x) and its Gradient -->\n",
       "    <g transform=\"translate(230.334375 16.318125)scale(0.12 -0.12)\">\n",
       "     <defs>\n",
       "      <path id=\"DejaVuSans-50\" d=\"M 1259 4147 \n",
       "L 1259 2394 \n",
       "L 2053 2394 \n",
       "Q 2494 2394 2734 2622 \n",
       "Q 2975 2850 2975 3272 \n",
       "Q 2975 3691 2734 3919 \n",
       "Q 2494 4147 2053 4147 \n",
       "L 1259 4147 \n",
       "z\n",
       "M 628 4666 \n",
       "L 2053 4666 \n",
       "Q 2838 4666 3239 4311 \n",
       "Q 3641 3956 3641 3272 \n",
       "Q 3641 2581 3239 2228 \n",
       "Q 2838 1875 2053 1875 \n",
       "L 1259 1875 \n",
       "L 1259 0 \n",
       "L 628 0 \n",
       "L 628 4666 \n",
       "z\n",
       "\" transform=\"scale(0.015625)\"/>\n",
       "      <path id=\"DejaVuSans-6c\" d=\"M 603 4863 \n",
       "L 1178 4863 \n",
       "L 1178 0 \n",
       "L 603 0 \n",
       "L 603 4863 \n",
       "z\n",
       "\" transform=\"scale(0.015625)\"/>\n",
       "      <path id=\"DejaVuSans-6f\" d=\"M 1959 3097 \n",
       "Q 1497 3097 1228 2736 \n",
       "Q 959 2375 959 1747 \n",
       "Q 959 1119 1226 758 \n",
       "Q 1494 397 1959 397 \n",
       "Q 2419 397 2687 759 \n",
       "Q 2956 1122 2956 1747 \n",
       "Q 2956 2369 2687 2733 \n",
       "Q 2419 3097 1959 3097 \n",
       "z\n",
       "M 1959 3584 \n",
       "Q 2709 3584 3137 3096 \n",
       "Q 3566 2609 3566 1747 \n",
       "Q 3566 888 3137 398 \n",
       "Q 2709 -91 1959 -91 \n",
       "Q 1206 -91 779 398 \n",
       "Q 353 888 353 1747 \n",
       "Q 353 2609 779 3096 \n",
       "Q 1206 3584 1959 3584 \n",
       "z\n",
       "\" transform=\"scale(0.015625)\"/>\n",
       "      <path id=\"DejaVuSans-74\" d=\"M 1172 4494 \n",
       "L 1172 3500 \n",
       "L 2356 3500 \n",
       "L 2356 3053 \n",
       "L 1172 3053 \n",
       "L 1172 1153 \n",
       "Q 1172 725 1289 603 \n",
       "Q 1406 481 1766 481 \n",
       "L 2356 481 \n",
       "L 2356 0 \n",
       "L 1766 0 \n",
       "Q 1100 0 847 248 \n",
       "Q 594 497 594 1153 \n",
       "L 594 3053 \n",
       "L 172 3053 \n",
       "L 172 3500 \n",
       "L 594 3500 \n",
       "L 594 4494 \n",
       "L 1172 4494 \n",
       "z\n",
       "\" transform=\"scale(0.015625)\"/>\n",
       "      <path id=\"DejaVuSans-20\" transform=\"scale(0.015625)\"/>\n",
       "      <path id=\"DejaVuSans-66\" d=\"M 2375 4863 \n",
       "L 2375 4384 \n",
       "L 1825 4384 \n",
       "Q 1516 4384 1395 4259 \n",
       "Q 1275 4134 1275 3809 \n",
       "L 1275 3500 \n",
       "L 2222 3500 \n",
       "L 2222 3053 \n",
       "L 1275 3053 \n",
       "L 1275 0 \n",
       "L 697 0 \n",
       "L 697 3053 \n",
       "L 147 3053 \n",
       "L 147 3500 \n",
       "L 697 3500 \n",
       "L 697 3744 \n",
       "Q 697 4328 969 4595 \n",
       "Q 1241 4863 1831 4863 \n",
       "L 2375 4863 \n",
       "z\n",
       "\" transform=\"scale(0.015625)\"/>\n",
       "      <path id=\"DejaVuSans-28\" d=\"M 1984 4856 \n",
       "Q 1566 4138 1362 3434 \n",
       "Q 1159 2731 1159 2009 \n",
       "Q 1159 1288 1364 580 \n",
       "Q 1569 -128 1984 -844 \n",
       "L 1484 -844 \n",
       "Q 1016 -109 783 600 \n",
       "Q 550 1309 550 2009 \n",
       "Q 550 2706 781 3412 \n",
       "Q 1013 4119 1484 4856 \n",
       "L 1984 4856 \n",
       "z\n",
       "\" transform=\"scale(0.015625)\"/>\n",
       "      <path id=\"DejaVuSans-29\" d=\"M 513 4856 \n",
       "L 1013 4856 \n",
       "Q 1481 4119 1714 3412 \n",
       "Q 1947 2706 1947 2009 \n",
       "Q 1947 1309 1714 600 \n",
       "Q 1481 -109 1013 -844 \n",
       "L 513 -844 \n",
       "Q 928 -128 1133 580 \n",
       "Q 1338 1288 1338 2009 \n",
       "Q 1338 2731 1133 3434 \n",
       "Q 928 4138 513 4856 \n",
       "z\n",
       "\" transform=\"scale(0.015625)\"/>\n",
       "      <path id=\"DejaVuSans-3d\" d=\"M 678 2906 \n",
       "L 4684 2906 \n",
       "L 4684 2381 \n",
       "L 678 2381 \n",
       "L 678 2906 \n",
       "z\n",
       "M 678 1631 \n",
       "L 4684 1631 \n",
       "L 4684 1100 \n",
       "L 678 1100 \n",
       "L 678 1631 \n",
       "z\n",
       "\" transform=\"scale(0.015625)\"/>\n",
       "      <path id=\"DejaVuSans-73\" d=\"M 2834 3397 \n",
       "L 2834 2853 \n",
       "Q 2591 2978 2328 3040 \n",
       "Q 2066 3103 1784 3103 \n",
       "Q 1356 3103 1142 2972 \n",
       "Q 928 2841 928 2578 \n",
       "Q 928 2378 1081 2264 \n",
       "Q 1234 2150 1697 2047 \n",
       "L 1894 2003 \n",
       "Q 2506 1872 2764 1633 \n",
       "Q 3022 1394 3022 966 \n",
       "Q 3022 478 2636 193 \n",
       "Q 2250 -91 1575 -91 \n",
       "Q 1294 -91 989 -36 \n",
       "Q 684 19 347 128 \n",
       "L 347 722 \n",
       "Q 666 556 975 473 \n",
       "Q 1284 391 1588 391 \n",
       "Q 1994 391 2212 530 \n",
       "Q 2431 669 2431 922 \n",
       "Q 2431 1156 2273 1281 \n",
       "Q 2116 1406 1581 1522 \n",
       "L 1381 1569 \n",
       "Q 847 1681 609 1914 \n",
       "Q 372 2147 372 2553 \n",
       "Q 372 3047 722 3315 \n",
       "Q 1072 3584 1716 3584 \n",
       "Q 2034 3584 2315 3537 \n",
       "Q 2597 3491 2834 3397 \n",
       "z\n",
       "\" transform=\"scale(0.015625)\"/>\n",
       "      <path id=\"DejaVuSans-69\" d=\"M 603 3500 \n",
       "L 1178 3500 \n",
       "L 1178 0 \n",
       "L 603 0 \n",
       "L 603 3500 \n",
       "z\n",
       "M 603 4863 \n",
       "L 1178 4863 \n",
       "L 1178 4134 \n",
       "L 603 4134 \n",
       "L 603 4863 \n",
       "z\n",
       "\" transform=\"scale(0.015625)\"/>\n",
       "      <path id=\"DejaVuSans-6e\" d=\"M 3513 2113 \n",
       "L 3513 0 \n",
       "L 2938 0 \n",
       "L 2938 2094 \n",
       "Q 2938 2591 2744 2837 \n",
       "Q 2550 3084 2163 3084 \n",
       "Q 1697 3084 1428 2787 \n",
       "Q 1159 2491 1159 1978 \n",
       "L 1159 0 \n",
       "L 581 0 \n",
       "L 581 3500 \n",
       "L 1159 3500 \n",
       "L 1159 2956 \n",
       "Q 1366 3272 1645 3428 \n",
       "Q 1925 3584 2291 3584 \n",
       "Q 2894 3584 3203 3211 \n",
       "Q 3513 2838 3513 2113 \n",
       "z\n",
       "\" transform=\"scale(0.015625)\"/>\n",
       "      <path id=\"DejaVuSans-61\" d=\"M 2194 1759 \n",
       "Q 1497 1759 1228 1600 \n",
       "Q 959 1441 959 1056 \n",
       "Q 959 750 1161 570 \n",
       "Q 1363 391 1709 391 \n",
       "Q 2188 391 2477 730 \n",
       "Q 2766 1069 2766 1631 \n",
       "L 2766 1759 \n",
       "L 2194 1759 \n",
       "z\n",
       "M 3341 1997 \n",
       "L 3341 0 \n",
       "L 2766 0 \n",
       "L 2766 531 \n",
       "Q 2569 213 2275 61 \n",
       "Q 1981 -91 1556 -91 \n",
       "Q 1019 -91 701 211 \n",
       "Q 384 513 384 1019 \n",
       "Q 384 1609 779 1909 \n",
       "Q 1175 2209 1959 2209 \n",
       "L 2766 2209 \n",
       "L 2766 2266 \n",
       "Q 2766 2663 2505 2880 \n",
       "Q 2244 3097 1772 3097 \n",
       "Q 1472 3097 1187 3025 \n",
       "Q 903 2953 641 2809 \n",
       "L 641 3341 \n",
       "Q 956 3463 1253 3523 \n",
       "Q 1550 3584 1831 3584 \n",
       "Q 2591 3584 2966 3190 \n",
       "Q 3341 2797 3341 1997 \n",
       "z\n",
       "\" transform=\"scale(0.015625)\"/>\n",
       "      <path id=\"DejaVuSans-64\" d=\"M 2906 2969 \n",
       "L 2906 4863 \n",
       "L 3481 4863 \n",
       "L 3481 0 \n",
       "L 2906 0 \n",
       "L 2906 525 \n",
       "Q 2725 213 2448 61 \n",
       "Q 2172 -91 1784 -91 \n",
       "Q 1150 -91 751 415 \n",
       "Q 353 922 353 1747 \n",
       "Q 353 2572 751 3078 \n",
       "Q 1150 3584 1784 3584 \n",
       "Q 2172 3584 2448 3432 \n",
       "Q 2725 3281 2906 2969 \n",
       "z\n",
       "M 947 1747 \n",
       "Q 947 1113 1208 752 \n",
       "Q 1469 391 1925 391 \n",
       "Q 2381 391 2643 752 \n",
       "Q 2906 1113 2906 1747 \n",
       "Q 2906 2381 2643 2742 \n",
       "Q 2381 3103 1925 3103 \n",
       "Q 1469 3103 1208 2742 \n",
       "Q 947 2381 947 1747 \n",
       "z\n",
       "\" transform=\"scale(0.015625)\"/>\n",
       "      <path id=\"DejaVuSans-47\" d=\"M 3809 666 \n",
       "L 3809 1919 \n",
       "L 2778 1919 \n",
       "L 2778 2438 \n",
       "L 4434 2438 \n",
       "L 4434 434 \n",
       "Q 4069 175 3628 42 \n",
       "Q 3188 -91 2688 -91 \n",
       "Q 1594 -91 976 548 \n",
       "Q 359 1188 359 2328 \n",
       "Q 359 3472 976 4111 \n",
       "Q 1594 4750 2688 4750 \n",
       "Q 3144 4750 3555 4637 \n",
       "Q 3966 4525 4313 4306 \n",
       "L 4313 3634 \n",
       "Q 3963 3931 3569 4081 \n",
       "Q 3175 4231 2741 4231 \n",
       "Q 1884 4231 1454 3753 \n",
       "Q 1025 3275 1025 2328 \n",
       "Q 1025 1384 1454 906 \n",
       "Q 1884 428 2741 428 \n",
       "Q 3075 428 3337 486 \n",
       "Q 3600 544 3809 666 \n",
       "z\n",
       "\" transform=\"scale(0.015625)\"/>\n",
       "      <path id=\"DejaVuSans-72\" d=\"M 2631 2963 \n",
       "Q 2534 3019 2420 3045 \n",
       "Q 2306 3072 2169 3072 \n",
       "Q 1681 3072 1420 2755 \n",
       "Q 1159 2438 1159 1844 \n",
       "L 1159 0 \n",
       "L 581 0 \n",
       "L 581 3500 \n",
       "L 1159 3500 \n",
       "L 1159 2956 \n",
       "Q 1341 3275 1631 3429 \n",
       "Q 1922 3584 2338 3584 \n",
       "Q 2397 3584 2469 3576 \n",
       "Q 2541 3569 2628 3553 \n",
       "L 2631 2963 \n",
       "z\n",
       "\" transform=\"scale(0.015625)\"/>\n",
       "      <path id=\"DejaVuSans-65\" d=\"M 3597 1894 \n",
       "L 3597 1613 \n",
       "L 953 1613 \n",
       "Q 991 1019 1311 708 \n",
       "Q 1631 397 2203 397 \n",
       "Q 2534 397 2845 478 \n",
       "Q 3156 559 3463 722 \n",
       "L 3463 178 \n",
       "Q 3153 47 2828 -22 \n",
       "Q 2503 -91 2169 -91 \n",
       "Q 1331 -91 842 396 \n",
       "Q 353 884 353 1716 \n",
       "Q 353 2575 817 3079 \n",
       "Q 1281 3584 2069 3584 \n",
       "Q 2775 3584 3186 3129 \n",
       "Q 3597 2675 3597 1894 \n",
       "z\n",
       "M 3022 2063 \n",
       "Q 3016 2534 2758 2815 \n",
       "Q 2500 3097 2075 3097 \n",
       "Q 1594 3097 1305 2825 \n",
       "Q 1016 2553 972 2059 \n",
       "L 3022 2063 \n",
       "z\n",
       "\" transform=\"scale(0.015625)\"/>\n",
       "     </defs>\n",
       "     <use xlink:href=\"#DejaVuSans-50\"/>\n",
       "     <use xlink:href=\"#DejaVuSans-6c\" x=\"60.302734\"/>\n",
       "     <use xlink:href=\"#DejaVuSans-6f\" x=\"88.085938\"/>\n",
       "     <use xlink:href=\"#DejaVuSans-74\" x=\"149.267578\"/>\n",
       "     <use xlink:href=\"#DejaVuSans-20\" x=\"188.476562\"/>\n",
       "     <use xlink:href=\"#DejaVuSans-6f\" x=\"220.263672\"/>\n",
       "     <use xlink:href=\"#DejaVuSans-66\" x=\"281.445312\"/>\n",
       "     <use xlink:href=\"#DejaVuSans-20\" x=\"316.650391\"/>\n",
       "     <use xlink:href=\"#DejaVuSans-66\" x=\"348.4375\"/>\n",
       "     <use xlink:href=\"#DejaVuSans-28\" x=\"383.642578\"/>\n",
       "     <use xlink:href=\"#DejaVuSans-78\" x=\"422.65625\"/>\n",
       "     <use xlink:href=\"#DejaVuSans-29\" x=\"481.835938\"/>\n",
       "     <use xlink:href=\"#DejaVuSans-20\" x=\"520.849609\"/>\n",
       "     <use xlink:href=\"#DejaVuSans-3d\" x=\"552.636719\"/>\n",
       "     <use xlink:href=\"#DejaVuSans-20\" x=\"636.425781\"/>\n",
       "     <use xlink:href=\"#DejaVuSans-73\" x=\"668.212891\"/>\n",
       "     <use xlink:href=\"#DejaVuSans-69\" x=\"720.3125\"/>\n",
       "     <use xlink:href=\"#DejaVuSans-6e\" x=\"748.095703\"/>\n",
       "     <use xlink:href=\"#DejaVuSans-28\" x=\"811.474609\"/>\n",
       "     <use xlink:href=\"#DejaVuSans-78\" x=\"850.488281\"/>\n",
       "     <use xlink:href=\"#DejaVuSans-29\" x=\"909.667969\"/>\n",
       "     <use xlink:href=\"#DejaVuSans-20\" x=\"948.681641\"/>\n",
       "     <use xlink:href=\"#DejaVuSans-61\" x=\"980.46875\"/>\n",
       "     <use xlink:href=\"#DejaVuSans-6e\" x=\"1041.748047\"/>\n",
       "     <use xlink:href=\"#DejaVuSans-64\" x=\"1105.126953\"/>\n",
       "     <use xlink:href=\"#DejaVuSans-20\" x=\"1168.603516\"/>\n",
       "     <use xlink:href=\"#DejaVuSans-69\" x=\"1200.390625\"/>\n",
       "     <use xlink:href=\"#DejaVuSans-74\" x=\"1228.173828\"/>\n",
       "     <use xlink:href=\"#DejaVuSans-73\" x=\"1267.382812\"/>\n",
       "     <use xlink:href=\"#DejaVuSans-20\" x=\"1319.482422\"/>\n",
       "     <use xlink:href=\"#DejaVuSans-47\" x=\"1351.269531\"/>\n",
       "     <use xlink:href=\"#DejaVuSans-72\" x=\"1428.759766\"/>\n",
       "     <use xlink:href=\"#DejaVuSans-61\" x=\"1469.873047\"/>\n",
       "     <use xlink:href=\"#DejaVuSans-64\" x=\"1531.152344\"/>\n",
       "     <use xlink:href=\"#DejaVuSans-69\" x=\"1594.628906\"/>\n",
       "     <use xlink:href=\"#DejaVuSans-65\" x=\"1622.412109\"/>\n",
       "     <use xlink:href=\"#DejaVuSans-6e\" x=\"1683.935547\"/>\n",
       "     <use xlink:href=\"#DejaVuSans-74\" x=\"1747.314453\"/>\n",
       "    </g>\n",
       "   </g>\n",
       "   <g id=\"legend_1\">\n",
       "    <g id=\"patch_7\">\n",
       "     <path d=\"M 65.523438 59.674375 \n",
       "L 162.798438 59.674375 \n",
       "Q 164.798438 59.674375 164.798438 57.674375 \n",
       "L 164.798438 29.318125 \n",
       "Q 164.798438 27.318125 162.798438 27.318125 \n",
       "L 65.523438 27.318125 \n",
       "Q 63.523438 27.318125 63.523438 29.318125 \n",
       "L 63.523438 57.674375 \n",
       "Q 63.523438 59.674375 65.523438 59.674375 \n",
       "z\n",
       "\" style=\"fill: #ffffff; opacity: 0.8; stroke: #cccccc; stroke-linejoin: miter\"/>\n",
       "    </g>\n",
       "    <g id=\"line2d_39\">\n",
       "     <path d=\"M 67.523438 35.416562 \n",
       "L 77.523438 35.416562 \n",
       "L 87.523438 35.416562 \n",
       "\" style=\"fill: none; stroke: #1f77b4; stroke-width: 1.5; stroke-linecap: square\"/>\n",
       "    </g>\n",
       "    <g id=\"text_22\">\n",
       "     <!-- f(x) = sin(x) -->\n",
       "     <g transform=\"translate(95.523438 38.916562)scale(0.1 -0.1)\">\n",
       "      <use xlink:href=\"#DejaVuSans-66\"/>\n",
       "      <use xlink:href=\"#DejaVuSans-28\" x=\"35.205078\"/>\n",
       "      <use xlink:href=\"#DejaVuSans-78\" x=\"74.21875\"/>\n",
       "      <use xlink:href=\"#DejaVuSans-29\" x=\"133.398438\"/>\n",
       "      <use xlink:href=\"#DejaVuSans-20\" x=\"172.412109\"/>\n",
       "      <use xlink:href=\"#DejaVuSans-3d\" x=\"204.199219\"/>\n",
       "      <use xlink:href=\"#DejaVuSans-20\" x=\"287.988281\"/>\n",
       "      <use xlink:href=\"#DejaVuSans-73\" x=\"319.775391\"/>\n",
       "      <use xlink:href=\"#DejaVuSans-69\" x=\"371.875\"/>\n",
       "      <use xlink:href=\"#DejaVuSans-6e\" x=\"399.658203\"/>\n",
       "      <use xlink:href=\"#DejaVuSans-28\" x=\"463.037109\"/>\n",
       "      <use xlink:href=\"#DejaVuSans-78\" x=\"502.050781\"/>\n",
       "      <use xlink:href=\"#DejaVuSans-29\" x=\"561.230469\"/>\n",
       "     </g>\n",
       "    </g>\n",
       "    <g id=\"line2d_40\">\n",
       "     <path d=\"M 67.523438 50.094688 \n",
       "L 77.523438 50.094688 \n",
       "L 87.523438 50.094688 \n",
       "\" style=\"fill: none; stroke: #ff7f0e; stroke-width: 1.5; stroke-linecap: square\"/>\n",
       "    </g>\n",
       "    <g id=\"text_23\">\n",
       "     <!-- f'(x) = cos(x) -->\n",
       "     <g transform=\"translate(95.523438 53.594688)scale(0.1 -0.1)\">\n",
       "      <defs>\n",
       "       <path id=\"DejaVuSans-27\" d=\"M 1147 4666 \n",
       "L 1147 2931 \n",
       "L 616 2931 \n",
       "L 616 4666 \n",
       "L 1147 4666 \n",
       "z\n",
       "\" transform=\"scale(0.015625)\"/>\n",
       "       <path id=\"DejaVuSans-63\" d=\"M 3122 3366 \n",
       "L 3122 2828 \n",
       "Q 2878 2963 2633 3030 \n",
       "Q 2388 3097 2138 3097 \n",
       "Q 1578 3097 1268 2742 \n",
       "Q 959 2388 959 1747 \n",
       "Q 959 1106 1268 751 \n",
       "Q 1578 397 2138 397 \n",
       "Q 2388 397 2633 464 \n",
       "Q 2878 531 3122 666 \n",
       "L 3122 134 \n",
       "Q 2881 22 2623 -34 \n",
       "Q 2366 -91 2075 -91 \n",
       "Q 1284 -91 818 406 \n",
       "Q 353 903 353 1747 \n",
       "Q 353 2603 823 3093 \n",
       "Q 1294 3584 2113 3584 \n",
       "Q 2378 3584 2631 3529 \n",
       "Q 2884 3475 3122 3366 \n",
       "z\n",
       "\" transform=\"scale(0.015625)\"/>\n",
       "      </defs>\n",
       "      <use xlink:href=\"#DejaVuSans-66\"/>\n",
       "      <use xlink:href=\"#DejaVuSans-27\" x=\"35.205078\"/>\n",
       "      <use xlink:href=\"#DejaVuSans-28\" x=\"62.695312\"/>\n",
       "      <use xlink:href=\"#DejaVuSans-78\" x=\"101.708984\"/>\n",
       "      <use xlink:href=\"#DejaVuSans-29\" x=\"160.888672\"/>\n",
       "      <use xlink:href=\"#DejaVuSans-20\" x=\"199.902344\"/>\n",
       "      <use xlink:href=\"#DejaVuSans-3d\" x=\"231.689453\"/>\n",
       "      <use xlink:href=\"#DejaVuSans-20\" x=\"315.478516\"/>\n",
       "      <use xlink:href=\"#DejaVuSans-63\" x=\"347.265625\"/>\n",
       "      <use xlink:href=\"#DejaVuSans-6f\" x=\"402.246094\"/>\n",
       "      <use xlink:href=\"#DejaVuSans-73\" x=\"463.427734\"/>\n",
       "      <use xlink:href=\"#DejaVuSans-28\" x=\"515.527344\"/>\n",
       "      <use xlink:href=\"#DejaVuSans-78\" x=\"554.541016\"/>\n",
       "      <use xlink:href=\"#DejaVuSans-29\" x=\"613.720703\"/>\n",
       "     </g>\n",
       "    </g>\n",
       "   </g>\n",
       "  </g>\n",
       " </g>\n",
       " <defs>\n",
       "  <clipPath id=\"pc972f8010d\">\n",
       "   <rect x=\"58.523438\" y=\"22.318125\" width=\"558\" height=\"277.2\"/>\n",
       "  </clipPath>\n",
       " </defs>\n",
       "</svg>\n"
      ],
      "text/plain": [
       "<Figure size 1000x500 with 1 Axes>"
      ]
     },
     "metadata": {},
     "output_type": "display_data"
    }
   ],
   "source": [
    "import torch\n",
    "import matplotlib.pyplot as plt\n",
    "\n",
    "# Define a tensor with requires_grad=True\n",
    "x = torch.linspace(-10, 10, 1000, requires_grad=True)\n",
    "\n",
    "# Compute the function f(x) = sin(x)\n",
    "y = torch.sin(x)\n",
    "\n",
    "# Compute the gradient with respect to x\n",
    "y.backward(torch.ones_like(x))\n",
    "\n",
    "# Extract the computed gradient\n",
    "gradient = x.grad\n",
    "\n",
    "# Plot the function and its gradient\n",
    "plt.figure(figsize=[10, 5])\n",
    "plt.plot(x.detach().numpy(), y.detach().numpy(), label='f(x) = sin(x)')\n",
    "plt.plot(x.detach().numpy(), gradient.detach().numpy(), label=\"f'(x) = cos(x)\")\n",
    "plt.legend()\n",
    "plt.xlabel('x')\n",
    "plt.ylabel('y')\n",
    "plt.title('Plot of f(x) = sin(x) and its Gradient')\n",
    "plt.grid(True)\n",
    "plt.show()\n"
   ]
  },
  {
   "cell_type": "code",
   "execution_count": 130,
   "id": "9a45891d-9710-4605-a15a-a64603e53e63",
   "metadata": {},
   "outputs": [
    {
     "data": {
      "text/plain": [
       "tensor([-8.3907e-01, -8.4979e-01, -8.6018e-01, -8.7021e-01, -8.7990e-01,\n",
       "        -8.8924e-01, -8.9822e-01, -9.0684e-01, -9.1509e-01, -9.2298e-01,\n",
       "        -9.3050e-01, -9.3765e-01, -9.4442e-01, -9.5081e-01, -9.5682e-01,\n",
       "        -9.6245e-01, -9.6769e-01, -9.7254e-01, -9.7701e-01, -9.8108e-01,\n",
       "        -9.8476e-01, -9.8804e-01, -9.9093e-01, -9.9342e-01, -9.9552e-01,\n",
       "        -9.9721e-01, -9.9850e-01, -9.9940e-01, -9.9989e-01, -9.9999e-01,\n",
       "        -9.9968e-01, -9.9897e-01, -9.9786e-01, -9.9635e-01, -9.9444e-01,\n",
       "        -9.9214e-01, -9.8943e-01, -9.8633e-01, -9.8284e-01, -9.7895e-01,\n",
       "        -9.7466e-01, -9.6999e-01, -9.6493e-01, -9.5948e-01, -9.5365e-01,\n",
       "        -9.4743e-01, -9.4084e-01, -9.3387e-01, -9.2652e-01, -9.1880e-01,\n",
       "        -9.1072e-01, -9.0227e-01, -8.9345e-01, -8.8428e-01, -8.7476e-01,\n",
       "        -8.6488e-01, -8.5466e-01, -8.4410e-01, -8.3319e-01, -8.2196e-01,\n",
       "        -8.1039e-01, -7.9850e-01, -7.8629e-01, -7.7376e-01, -7.6092e-01,\n",
       "        -7.4778e-01, -7.3434e-01, -7.2061e-01, -7.0658e-01, -6.9228e-01,\n",
       "        -6.7769e-01, -6.6283e-01, -6.4771e-01, -6.3233e-01, -6.1669e-01,\n",
       "        -6.0081e-01, -5.8469e-01, -5.6833e-01, -5.5175e-01, -5.3494e-01,\n",
       "        -5.1792e-01, -5.0069e-01, -4.8326e-01, -4.6564e-01, -4.4783e-01,\n",
       "        -4.2984e-01, -4.1168e-01, -3.9335e-01, -3.7487e-01, -3.5624e-01,\n",
       "        -3.3746e-01, -3.1855e-01, -2.9951e-01, -2.8035e-01, -2.6108e-01,\n",
       "        -2.4170e-01, -2.2223e-01, -2.0266e-01, -1.8302e-01, -1.6330e-01,\n",
       "        -1.4352e-01, -1.2368e-01, -1.0379e-01, -8.3858e-02, -6.3893e-02,\n",
       "        -4.3902e-02, -2.3894e-02, -3.8761e-03,  1.6143e-02,  3.6156e-02,\n",
       "         5.6154e-02,  7.6130e-02,  9.6076e-02,  1.1598e-01,  1.3584e-01,\n",
       "         1.5565e-01,  1.7539e-01,  1.9507e-01,  2.1466e-01,  2.3417e-01,\n",
       "         2.5358e-01,  2.7290e-01,  2.9210e-01,  3.1119e-01,  3.3015e-01,\n",
       "         3.4898e-01,  3.6767e-01,  3.8621e-01,  4.0460e-01,  4.2283e-01,\n",
       "         4.4088e-01,  4.5876e-01,  4.7646e-01,  4.9397e-01,  5.1127e-01,\n",
       "         5.2837e-01,  5.4526e-01,  5.6194e-01,  5.7838e-01,  5.9460e-01,\n",
       "         6.1057e-01,  6.2630e-01,  6.4179e-01,  6.5701e-01,  6.7197e-01,\n",
       "         6.8666e-01,  7.0108e-01,  7.1521e-01,  7.2906e-01,  7.4261e-01,\n",
       "         7.5587e-01,  7.6883e-01,  7.8147e-01,  7.9381e-01,  8.0582e-01,\n",
       "         8.1752e-01,  8.2888e-01,  8.3991e-01,  8.5061e-01,  8.6097e-01,\n",
       "         8.7098e-01,  8.8064e-01,  8.8995e-01,  8.9890e-01,  9.0749e-01,\n",
       "         9.1572e-01,  9.2358e-01,  9.3107e-01,  9.3818e-01,  9.4492e-01,\n",
       "         9.5129e-01,  9.5727e-01,  9.6287e-01,  9.6808e-01,  9.7290e-01,\n",
       "         9.7734e-01,  9.8138e-01,  9.8503e-01,  9.8828e-01,  9.9114e-01,\n",
       "         9.9360e-01,  9.9566e-01,  9.9732e-01,  9.9859e-01,  9.9945e-01,\n",
       "         9.9991e-01,  9.9998e-01,  9.9964e-01,  9.9890e-01,  9.9776e-01,\n",
       "         9.9622e-01,  9.9428e-01,  9.9194e-01,  9.8921e-01,  9.8608e-01,\n",
       "         9.8255e-01,  9.7863e-01,  9.7432e-01,  9.6961e-01,  9.6452e-01,\n",
       "         9.5904e-01,  9.5318e-01,  9.4694e-01,  9.4031e-01,  9.3331e-01,\n",
       "         9.2594e-01,  9.1819e-01,  9.1008e-01,  9.0160e-01,  8.9276e-01,\n",
       "         8.8356e-01,  8.7401e-01,  8.6410e-01,  8.5385e-01,  8.4326e-01,\n",
       "         8.3233e-01,  8.2107e-01,  8.0948e-01,  7.9756e-01,  7.8533e-01,\n",
       "         7.7278e-01,  7.5992e-01,  7.4675e-01,  7.3329e-01,  7.1953e-01,\n",
       "         7.0548e-01,  6.9116e-01,  6.7655e-01,  6.6167e-01,  6.4653e-01,\n",
       "         6.3113e-01,  6.1547e-01,  5.9957e-01,  5.8343e-01,  5.6706e-01,\n",
       "         5.5045e-01,  5.3363e-01,  5.1659e-01,  4.9935e-01,  4.8190e-01,\n",
       "         4.6427e-01,  4.4644e-01,  4.2844e-01,  4.1027e-01,  3.9193e-01,\n",
       "         3.7343e-01,  3.5479e-01,  3.3600e-01,  3.1708e-01,  2.9803e-01,\n",
       "         2.7886e-01,  2.5958e-01,  2.4019e-01,  2.2071e-01,  2.0114e-01,\n",
       "         1.8149e-01,  1.6177e-01,  1.4198e-01,  1.2214e-01,  1.0225e-01,\n",
       "         8.2313e-02,  6.2346e-02,  4.2353e-02,  2.2344e-02,  2.3260e-03,\n",
       "        -1.7693e-02, -3.7705e-02, -5.7702e-02, -7.7676e-02, -9.7618e-02,\n",
       "        -1.1752e-01, -1.3738e-01, -1.5718e-01, -1.7692e-01, -1.9659e-01,\n",
       "        -2.1617e-01, -2.3568e-01, -2.5508e-01, -2.7439e-01, -2.9358e-01,\n",
       "        -3.1266e-01, -3.3161e-01, -3.5043e-01, -3.6911e-01, -3.8764e-01,\n",
       "        -4.0602e-01, -4.2423e-01, -4.4228e-01, -4.6014e-01, -4.7782e-01,\n",
       "        -4.9531e-01, -5.1260e-01, -5.2969e-01, -5.4656e-01, -5.6322e-01,\n",
       "        -5.7965e-01, -5.9584e-01, -6.1180e-01, -6.2751e-01, -6.4297e-01,\n",
       "        -6.5818e-01, -6.7312e-01, -6.8779e-01, -7.0218e-01, -7.1629e-01,\n",
       "        -7.3012e-01, -7.4365e-01, -7.5689e-01, -7.6982e-01, -7.8244e-01,\n",
       "        -7.9475e-01, -8.0674e-01, -8.1841e-01, -8.2975e-01, -8.4075e-01,\n",
       "        -8.5142e-01, -8.6175e-01, -8.7174e-01, -8.8137e-01, -8.9065e-01,\n",
       "        -8.9957e-01, -9.0814e-01, -9.1634e-01, -9.2417e-01, -9.3163e-01,\n",
       "        -9.3872e-01, -9.4543e-01, -9.5176e-01, -9.5772e-01, -9.6328e-01,\n",
       "        -9.6847e-01, -9.7326e-01, -9.7766e-01, -9.8167e-01, -9.8529e-01,\n",
       "        -9.8852e-01, -9.9134e-01, -9.9377e-01, -9.9580e-01, -9.9744e-01,\n",
       "        -9.9867e-01, -9.9950e-01, -9.9993e-01, -9.9996e-01, -9.9959e-01,\n",
       "        -9.9882e-01, -9.9765e-01, -9.9608e-01, -9.9411e-01, -9.9175e-01,\n",
       "        -9.8898e-01, -9.8582e-01, -9.8226e-01, -9.7831e-01, -9.7397e-01,\n",
       "        -9.6923e-01, -9.6411e-01, -9.5860e-01, -9.5271e-01, -9.4644e-01,\n",
       "        -9.3978e-01, -9.3275e-01, -9.2535e-01, -9.1757e-01, -9.0943e-01,\n",
       "        -9.0093e-01, -8.9206e-01, -8.8283e-01, -8.7325e-01, -8.6332e-01,\n",
       "        -8.5305e-01, -8.4243e-01, -8.3147e-01, -8.2019e-01, -8.0857e-01,\n",
       "        -7.9663e-01, -7.8437e-01, -7.7179e-01, -7.5891e-01, -7.4572e-01,\n",
       "        -7.3223e-01, -7.1845e-01, -7.0438e-01, -6.9003e-01, -6.7541e-01,\n",
       "        -6.6051e-01, -6.4535e-01, -6.2992e-01, -6.1425e-01, -5.9833e-01,\n",
       "        -5.8217e-01, -5.6578e-01, -5.4916e-01, -5.3232e-01, -5.1526e-01,\n",
       "        -4.9800e-01, -4.8054e-01, -4.6289e-01, -4.4506e-01, -4.2704e-01,\n",
       "        -4.0885e-01, -3.9050e-01, -3.7199e-01, -3.5334e-01, -3.3454e-01,\n",
       "        -3.1561e-01, -2.9655e-01, -2.7737e-01, -2.5808e-01, -2.3869e-01,\n",
       "        -2.1920e-01, -1.9963e-01, -1.7997e-01, -1.6024e-01, -1.4045e-01,\n",
       "        -1.2060e-01, -1.0070e-01, -8.0768e-02, -6.0798e-02, -4.0804e-02,\n",
       "        -2.0794e-02, -7.7562e-04,  1.9243e-02,  3.9254e-02,  5.9250e-02,\n",
       "         7.9221e-02,  9.9161e-02,  1.1906e-01,  1.3891e-01,  1.5871e-01,\n",
       "         1.7844e-01,  1.9811e-01,  2.1769e-01,  2.3718e-01,  2.5658e-01,\n",
       "         2.7588e-01,  2.9507e-01,  3.1413e-01,  3.3308e-01,  3.5189e-01,\n",
       "         3.7055e-01,  3.8907e-01,  4.0744e-01,  4.2564e-01,  4.4367e-01,\n",
       "         4.6152e-01,  4.7918e-01,  4.9666e-01,  5.1393e-01,  5.3100e-01,\n",
       "         5.4786e-01,  5.6450e-01,  5.8091e-01,  5.9709e-01,  6.1303e-01,\n",
       "         6.2872e-01,  6.4416e-01,  6.5934e-01,  6.7426e-01,  6.8891e-01,\n",
       "         7.0328e-01,  7.1737e-01,  7.3118e-01,  7.4469e-01,  7.5790e-01,\n",
       "         7.7081e-01,  7.8340e-01,  7.9569e-01,  8.0766e-01,  8.1930e-01,\n",
       "         8.3061e-01,  8.4159e-01,  8.5224e-01,  8.6254e-01,  8.7249e-01,\n",
       "         8.8210e-01,  8.9135e-01,  9.0025e-01,  9.0879e-01,  9.1696e-01,\n",
       "         9.2476e-01,  9.3219e-01,  9.3925e-01,  9.4594e-01,  9.5224e-01,\n",
       "         9.5816e-01,  9.6370e-01,  9.6885e-01,  9.7361e-01,  9.7799e-01,\n",
       "         9.8197e-01,  9.8556e-01,  9.8875e-01,  9.9154e-01,  9.9394e-01,\n",
       "         9.9594e-01,  9.9755e-01,  9.9875e-01,  9.9955e-01,  9.9995e-01,\n",
       "         9.9995e-01,  9.9955e-01,  9.9875e-01,  9.9755e-01,  9.9594e-01,\n",
       "         9.9394e-01,  9.9154e-01,  9.8875e-01,  9.8556e-01,  9.8197e-01,\n",
       "         9.7799e-01,  9.7361e-01,  9.6885e-01,  9.6370e-01,  9.5816e-01,\n",
       "         9.5224e-01,  9.4594e-01,  9.3925e-01,  9.3219e-01,  9.2476e-01,\n",
       "         9.1696e-01,  9.0879e-01,  9.0025e-01,  8.9135e-01,  8.8210e-01,\n",
       "         8.7249e-01,  8.6254e-01,  8.5224e-01,  8.4159e-01,  8.3061e-01,\n",
       "         8.1930e-01,  8.0766e-01,  7.9569e-01,  7.8340e-01,  7.7081e-01,\n",
       "         7.5790e-01,  7.4469e-01,  7.3118e-01,  7.1737e-01,  7.0328e-01,\n",
       "         6.8891e-01,  6.7426e-01,  6.5934e-01,  6.4416e-01,  6.2872e-01,\n",
       "         6.1303e-01,  5.9709e-01,  5.8091e-01,  5.6450e-01,  5.4786e-01,\n",
       "         5.3100e-01,  5.1393e-01,  4.9666e-01,  4.7918e-01,  4.6152e-01,\n",
       "         4.4367e-01,  4.2564e-01,  4.0744e-01,  3.8907e-01,  3.7055e-01,\n",
       "         3.5189e-01,  3.3308e-01,  3.1413e-01,  2.9507e-01,  2.7588e-01,\n",
       "         2.5658e-01,  2.3718e-01,  2.1769e-01,  1.9811e-01,  1.7844e-01,\n",
       "         1.5871e-01,  1.3891e-01,  1.1906e-01,  9.9161e-02,  7.9221e-02,\n",
       "         5.9250e-02,  3.9254e-02,  1.9243e-02, -7.7562e-04, -2.0794e-02,\n",
       "        -4.0804e-02, -6.0798e-02, -8.0768e-02, -1.0070e-01, -1.2060e-01,\n",
       "        -1.4045e-01, -1.6024e-01, -1.7997e-01, -1.9963e-01, -2.1920e-01,\n",
       "        -2.3869e-01, -2.5808e-01, -2.7737e-01, -2.9655e-01, -3.1561e-01,\n",
       "        -3.3454e-01, -3.5334e-01, -3.7199e-01, -3.9050e-01, -4.0885e-01,\n",
       "        -4.2704e-01, -4.4506e-01, -4.6289e-01, -4.8054e-01, -4.9800e-01,\n",
       "        -5.1526e-01, -5.3232e-01, -5.4916e-01, -5.6578e-01, -5.8217e-01,\n",
       "        -5.9833e-01, -6.1425e-01, -6.2992e-01, -6.4535e-01, -6.6051e-01,\n",
       "        -6.7541e-01, -6.9003e-01, -7.0438e-01, -7.1845e-01, -7.3223e-01,\n",
       "        -7.4572e-01, -7.5891e-01, -7.7179e-01, -7.8437e-01, -7.9663e-01,\n",
       "        -8.0857e-01, -8.2019e-01, -8.3147e-01, -8.4243e-01, -8.5305e-01,\n",
       "        -8.6332e-01, -8.7325e-01, -8.8283e-01, -8.9206e-01, -9.0093e-01,\n",
       "        -9.0943e-01, -9.1757e-01, -9.2535e-01, -9.3275e-01, -9.3978e-01,\n",
       "        -9.4644e-01, -9.5271e-01, -9.5860e-01, -9.6411e-01, -9.6923e-01,\n",
       "        -9.7397e-01, -9.7831e-01, -9.8226e-01, -9.8582e-01, -9.8898e-01,\n",
       "        -9.9175e-01, -9.9411e-01, -9.9608e-01, -9.9765e-01, -9.9882e-01,\n",
       "        -9.9959e-01, -9.9996e-01, -9.9993e-01, -9.9950e-01, -9.9867e-01,\n",
       "        -9.9744e-01, -9.9580e-01, -9.9377e-01, -9.9134e-01, -9.8852e-01,\n",
       "        -9.8529e-01, -9.8167e-01, -9.7766e-01, -9.7326e-01, -9.6847e-01,\n",
       "        -9.6328e-01, -9.5772e-01, -9.5176e-01, -9.4543e-01, -9.3872e-01,\n",
       "        -9.3163e-01, -9.2417e-01, -9.1634e-01, -9.0814e-01, -8.9957e-01,\n",
       "        -8.9065e-01, -8.8137e-01, -8.7174e-01, -8.6175e-01, -8.5142e-01,\n",
       "        -8.4075e-01, -8.2975e-01, -8.1841e-01, -8.0674e-01, -7.9475e-01,\n",
       "        -7.8244e-01, -7.6982e-01, -7.5689e-01, -7.4365e-01, -7.3012e-01,\n",
       "        -7.1629e-01, -7.0218e-01, -6.8779e-01, -6.7312e-01, -6.5818e-01,\n",
       "        -6.4297e-01, -6.2751e-01, -6.1180e-01, -5.9584e-01, -5.7965e-01,\n",
       "        -5.6322e-01, -5.4656e-01, -5.2969e-01, -5.1260e-01, -4.9531e-01,\n",
       "        -4.7782e-01, -4.6014e-01, -4.4228e-01, -4.2423e-01, -4.0602e-01,\n",
       "        -3.8764e-01, -3.6911e-01, -3.5043e-01, -3.3161e-01, -3.1266e-01,\n",
       "        -2.9358e-01, -2.7439e-01, -2.5508e-01, -2.3568e-01, -2.1617e-01,\n",
       "        -1.9659e-01, -1.7692e-01, -1.5718e-01, -1.3738e-01, -1.1752e-01,\n",
       "        -9.7618e-02, -7.7676e-02, -5.7702e-02, -3.7705e-02, -1.7693e-02,\n",
       "         2.3260e-03,  2.2344e-02,  4.2353e-02,  6.2346e-02,  8.2313e-02,\n",
       "         1.0225e-01,  1.2214e-01,  1.4198e-01,  1.6177e-01,  1.8149e-01,\n",
       "         2.0114e-01,  2.2071e-01,  2.4019e-01,  2.5958e-01,  2.7886e-01,\n",
       "         2.9803e-01,  3.1708e-01,  3.3600e-01,  3.5479e-01,  3.7343e-01,\n",
       "         3.9193e-01,  4.1027e-01,  4.2844e-01,  4.4644e-01,  4.6427e-01,\n",
       "         4.8190e-01,  4.9935e-01,  5.1659e-01,  5.3363e-01,  5.5045e-01,\n",
       "         5.6706e-01,  5.8343e-01,  5.9957e-01,  6.1547e-01,  6.3113e-01,\n",
       "         6.4653e-01,  6.6167e-01,  6.7655e-01,  6.9116e-01,  7.0548e-01,\n",
       "         7.1953e-01,  7.3329e-01,  7.4675e-01,  7.5992e-01,  7.7278e-01,\n",
       "         7.8533e-01,  7.9756e-01,  8.0948e-01,  8.2107e-01,  8.3233e-01,\n",
       "         8.4326e-01,  8.5385e-01,  8.6410e-01,  8.7401e-01,  8.8356e-01,\n",
       "         8.9276e-01,  9.0160e-01,  9.1008e-01,  9.1819e-01,  9.2594e-01,\n",
       "         9.3331e-01,  9.4031e-01,  9.4694e-01,  9.5318e-01,  9.5904e-01,\n",
       "         9.6452e-01,  9.6961e-01,  9.7432e-01,  9.7863e-01,  9.8255e-01,\n",
       "         9.8608e-01,  9.8921e-01,  9.9194e-01,  9.9428e-01,  9.9622e-01,\n",
       "         9.9776e-01,  9.9890e-01,  9.9964e-01,  9.9998e-01,  9.9991e-01,\n",
       "         9.9945e-01,  9.9859e-01,  9.9732e-01,  9.9566e-01,  9.9360e-01,\n",
       "         9.9114e-01,  9.8828e-01,  9.8503e-01,  9.8138e-01,  9.7734e-01,\n",
       "         9.7290e-01,  9.6808e-01,  9.6287e-01,  9.5727e-01,  9.5129e-01,\n",
       "         9.4492e-01,  9.3818e-01,  9.3107e-01,  9.2358e-01,  9.1572e-01,\n",
       "         9.0749e-01,  8.9890e-01,  8.8995e-01,  8.8064e-01,  8.7098e-01,\n",
       "         8.6097e-01,  8.5061e-01,  8.3991e-01,  8.2888e-01,  8.1752e-01,\n",
       "         8.0582e-01,  7.9381e-01,  7.8147e-01,  7.6883e-01,  7.5587e-01,\n",
       "         7.4261e-01,  7.2906e-01,  7.1521e-01,  7.0108e-01,  6.8666e-01,\n",
       "         6.7197e-01,  6.5701e-01,  6.4179e-01,  6.2630e-01,  6.1057e-01,\n",
       "         5.9460e-01,  5.7838e-01,  5.6194e-01,  5.4526e-01,  5.2837e-01,\n",
       "         5.1127e-01,  4.9397e-01,  4.7646e-01,  4.5876e-01,  4.4088e-01,\n",
       "         4.2283e-01,  4.0460e-01,  3.8621e-01,  3.6767e-01,  3.4898e-01,\n",
       "         3.3015e-01,  3.1119e-01,  2.9210e-01,  2.7290e-01,  2.5358e-01,\n",
       "         2.3417e-01,  2.1466e-01,  1.9507e-01,  1.7539e-01,  1.5565e-01,\n",
       "         1.3584e-01,  1.1598e-01,  9.6076e-02,  7.6130e-02,  5.6154e-02,\n",
       "         3.6156e-02,  1.6143e-02, -3.8761e-03, -2.3894e-02, -4.3902e-02,\n",
       "        -6.3893e-02, -8.3858e-02, -1.0379e-01, -1.2368e-01, -1.4352e-01,\n",
       "        -1.6330e-01, -1.8302e-01, -2.0266e-01, -2.2223e-01, -2.4170e-01,\n",
       "        -2.6108e-01, -2.8035e-01, -2.9951e-01, -3.1855e-01, -3.3746e-01,\n",
       "        -3.5624e-01, -3.7487e-01, -3.9335e-01, -4.1168e-01, -4.2984e-01,\n",
       "        -4.4783e-01, -4.6564e-01, -4.8326e-01, -5.0069e-01, -5.1792e-01,\n",
       "        -5.3494e-01, -5.5175e-01, -5.6833e-01, -5.8469e-01, -6.0081e-01,\n",
       "        -6.1669e-01, -6.3233e-01, -6.4771e-01, -6.6283e-01, -6.7769e-01,\n",
       "        -6.9228e-01, -7.0658e-01, -7.2061e-01, -7.3434e-01, -7.4778e-01,\n",
       "        -7.6092e-01, -7.7376e-01, -7.8629e-01, -7.9850e-01, -8.1039e-01,\n",
       "        -8.2196e-01, -8.3319e-01, -8.4410e-01, -8.5466e-01, -8.6488e-01,\n",
       "        -8.7476e-01, -8.8428e-01, -8.9345e-01, -9.0227e-01, -9.1072e-01,\n",
       "        -9.1880e-01, -9.2652e-01, -9.3387e-01, -9.4084e-01, -9.4743e-01,\n",
       "        -9.5365e-01, -9.5948e-01, -9.6493e-01, -9.6999e-01, -9.7466e-01,\n",
       "        -9.7895e-01, -9.8284e-01, -9.8633e-01, -9.8943e-01, -9.9214e-01,\n",
       "        -9.9444e-01, -9.9635e-01, -9.9786e-01, -9.9897e-01, -9.9968e-01,\n",
       "        -9.9999e-01, -9.9989e-01, -9.9940e-01, -9.9850e-01, -9.9721e-01,\n",
       "        -9.9552e-01, -9.9342e-01, -9.9093e-01, -9.8804e-01, -9.8476e-01,\n",
       "        -9.8108e-01, -9.7701e-01, -9.7254e-01, -9.6769e-01, -9.6245e-01,\n",
       "        -9.5682e-01, -9.5081e-01, -9.4442e-01, -9.3765e-01, -9.3050e-01,\n",
       "        -9.2298e-01, -9.1509e-01, -9.0684e-01, -8.9822e-01, -8.8924e-01,\n",
       "        -8.7990e-01, -8.7021e-01, -8.6018e-01, -8.4979e-01, -8.3907e-01])"
      ]
     },
     "execution_count": 130,
     "metadata": {},
     "output_type": "execute_result"
    }
   ],
   "source": [
    "x.grad"
   ]
  },
  {
   "cell_type": "code",
   "execution_count": 131,
   "id": "39f3a0c2-280c-4143-a20d-4eb7c3592f87",
   "metadata": {},
   "outputs": [],
   "source": [
    "%matplotlib inline\n",
    "import random\n",
    "import torch\n",
    "from torch.distributions.multinomial import Multinomial\n"
   ]
  },
  {
   "cell_type": "code",
   "execution_count": 133,
   "id": "cfb91e32-42a3-457f-9e3d-c58dab3392bd",
   "metadata": {},
   "outputs": [
    {
     "name": "stdout",
     "output_type": "stream",
     "text": [
      "heads, tails [49, 51]\n"
     ]
    }
   ],
   "source": [
    "num_tossses = 100\n",
    "heads = sum([random.random() > 0.5 for _ in range(100)])\n",
    "tails = num_tossses - heads\n",
    "print(\"heads, tails\", [heads, tails])"
   ]
  },
  {
   "cell_type": "code",
   "execution_count": 137,
   "id": "c011a23b-287e-4cb4-94b6-8774a0e08ae6",
   "metadata": {},
   "outputs": [
    {
     "data": {
      "text/plain": [
       "tensor([50., 50.])"
      ]
     },
     "execution_count": 137,
     "metadata": {},
     "output_type": "execute_result"
    }
   ],
   "source": [
    "fair_probs = torch.tensor([0.5,0.5])\n",
    "Multinomial(100, fair_probs).sample()"
   ]
  },
  {
   "cell_type": "code",
   "execution_count": 138,
   "id": "1c58c481-ca21-4f7a-89dd-a0f41c567cdd",
   "metadata": {},
   "outputs": [
    {
     "data": {
      "text/plain": [
       "tensor([0.4954, 0.5046])"
      ]
     },
     "execution_count": 138,
     "metadata": {},
     "output_type": "execute_result"
    }
   ],
   "source": [
    "counts = Multinomial(10000, fair_probs).sample()\n",
    "counts / 10000"
   ]
  },
  {
   "cell_type": "code",
   "execution_count": 139,
   "id": "1a8b822e-27cd-47b2-b2ec-efe44362a32f",
   "metadata": {},
   "outputs": [],
   "source": [
    "#As the number grows larger errors will go down at a rate of 1/sqrt(n)"
   ]
  },
  {
   "cell_type": "code",
   "execution_count": 150,
   "id": "76a943c1-99bf-47aa-a117-74086b4aa04e",
   "metadata": {},
   "outputs": [
    {
     "data": {
      "text/plain": [
       "tensor([[0.0000e+00, 1.0000e+00],\n",
       "        [1.0000e+00, 1.0000e+00],\n",
       "        [2.0000e+00, 1.0000e+00],\n",
       "        ...,\n",
       "        [5.0270e+03, 4.9710e+03],\n",
       "        [5.0280e+03, 4.9710e+03],\n",
       "        [5.0280e+03, 4.9720e+03]])"
      ]
     },
     "execution_count": 150,
     "metadata": {},
     "output_type": "execute_result"
    }
   ],
   "source": [
    "counts = Multinomial(1, fair_probs).sample((10000,))\n",
    "cum_counts = counts.cumsum(dim=0)\n",
    "cum_counts"
   ]
  },
  {
   "cell_type": "code",
   "execution_count": 1,
   "id": "442ae9e2-52fc-496d-accf-d0efed1def7e",
   "metadata": {},
   "outputs": [],
   "source": [
    "import torch"
   ]
  },
  {
   "cell_type": "code",
   "execution_count": 3,
   "id": "bc01a08a-acd7-4836-a3fb-d67411dd0441",
   "metadata": {},
   "outputs": [
    {
     "name": "stdout",
     "output_type": "stream",
     "text": [
      "['AbsTransform', 'AffineTransform', 'Bernoulli', 'Beta', 'Binomial', 'CatTransform', 'Categorical', 'Cauchy', 'Chi2', 'ComposeTransform', 'ContinuousBernoulli', 'CorrCholeskyTransform', 'CumulativeDistributionTransform', 'Dirichlet', 'Distribution', 'ExpTransform', 'Exponential', 'ExponentialFamily', 'FisherSnedecor', 'Gamma', 'Geometric', 'Gumbel', 'HalfCauchy', 'HalfNormal', 'Independent', 'IndependentTransform', 'Kumaraswamy', 'LKJCholesky', 'Laplace', 'LogNormal', 'LogisticNormal', 'LowRankMultivariateNormal', 'LowerCholeskyTransform', 'MixtureSameFamily', 'Multinomial', 'MultivariateNormal', 'NegativeBinomial', 'Normal', 'OneHotCategorical', 'OneHotCategoricalStraightThrough', 'Pareto', 'Poisson', 'PositiveDefiniteTransform', 'PowerTransform', 'RelaxedBernoulli', 'RelaxedOneHotCategorical', 'ReshapeTransform', 'SigmoidTransform', 'SoftmaxTransform', 'SoftplusTransform', 'StackTransform', 'StickBreakingTransform', 'StudentT', 'TanhTransform', 'Transform', 'TransformedDistribution', 'Uniform', 'VonMises', 'Weibull', 'Wishart', '__all__', '__builtins__', '__cached__', '__doc__', '__file__', '__loader__', '__name__', '__package__', '__path__', '__spec__', 'bernoulli', 'beta', 'biject_to', 'binomial', 'categorical', 'cauchy', 'chi2', 'constraint_registry', 'constraints', 'continuous_bernoulli', 'dirichlet', 'distribution', 'exp_family', 'exponential', 'fishersnedecor', 'gamma', 'geometric', 'gumbel', 'half_cauchy', 'half_normal', 'identity_transform', 'independent', 'kl', 'kl_divergence', 'kumaraswamy', 'laplace', 'lkj_cholesky', 'log_normal', 'logistic_normal', 'lowrank_multivariate_normal', 'mixture_same_family', 'multinomial', 'multivariate_normal', 'negative_binomial', 'normal', 'one_hot_categorical', 'pareto', 'poisson', 'register_kl', 'relaxed_bernoulli', 'relaxed_categorical', 'studentT', 'transform_to', 'transformed_distribution', 'transforms', 'uniform', 'utils', 'von_mises', 'weibull', 'wishart']\n"
     ]
    }
   ],
   "source": [
    "print(dir(torch.distributions))"
   ]
  },
  {
   "cell_type": "code",
   "execution_count": 4,
   "id": "b6c2d1fe-278f-444b-8a90-06eeb2f14703",
   "metadata": {},
   "outputs": [
    {
     "name": "stdout",
     "output_type": "stream",
     "text": [
      "Help on built-in function zeros in module torch:\n",
      "\n",
      "zeros(...)\n",
      "    zeros(*size, *, out=None, dtype=None, layout=torch.strided, device=None, requires_grad=False) -> Tensor\n",
      "    \n",
      "    Returns a tensor filled with the scalar value `0`, with the shape defined\n",
      "    by the variable argument :attr:`size`.\n",
      "    \n",
      "    Args:\n",
      "        size (int...): a sequence of integers defining the shape of the output tensor.\n",
      "            Can be a variable number of arguments or a collection like a list or tuple.\n",
      "    \n",
      "    Keyword args:\n",
      "        out (Tensor, optional): the output tensor.\n",
      "        dtype (:class:`torch.dtype`, optional): the desired data type of returned tensor.\n",
      "            Default: if ``None``, uses a global default (see :func:`torch.set_default_tensor_type`).\n",
      "        layout (:class:`torch.layout`, optional): the desired layout of returned Tensor.\n",
      "            Default: ``torch.strided``.\n",
      "        device (:class:`torch.device`, optional): the desired device of returned tensor.\n",
      "            Default: if ``None``, uses the current device for the default tensor type\n",
      "            (see :func:`torch.set_default_tensor_type`). :attr:`device` will be the CPU\n",
      "            for CPU tensor types and the current CUDA device for CUDA tensor types.\n",
      "        requires_grad (bool, optional): If autograd should record operations on the\n",
      "            returned tensor. Default: ``False``.\n",
      "    \n",
      "    Example::\n",
      "    \n",
      "        >>> torch.zeros(2, 3)\n",
      "        tensor([[ 0.,  0.,  0.],\n",
      "                [ 0.,  0.,  0.]])\n",
      "    \n",
      "        >>> torch.zeros(5)\n",
      "        tensor([ 0.,  0.,  0.,  0.,  0.])\n",
      "\n"
     ]
    }
   ],
   "source": [
    "help(torch.zeros)"
   ]
  },
  {
   "cell_type": "code",
   "execution_count": 5,
   "id": "5eaea368-e8ed-47dc-a82a-4bf978db3b83",
   "metadata": {},
   "outputs": [
    {
     "data": {
      "text/plain": [
       "\u001b[0;31mInit signature:\u001b[0m \u001b[0mlist\u001b[0m\u001b[0;34m(\u001b[0m\u001b[0miterable\u001b[0m\u001b[0;34m=\u001b[0m\u001b[0;34m(\u001b[0m\u001b[0;34m)\u001b[0m\u001b[0;34m,\u001b[0m \u001b[0;34m/\u001b[0m\u001b[0;34m)\u001b[0m\u001b[0;34m\u001b[0m\u001b[0;34m\u001b[0m\u001b[0m\n",
       "\u001b[0;31mDocstring:\u001b[0m     \n",
       "Built-in mutable sequence.\n",
       "\n",
       "If no argument is given, the constructor creates a new empty list.\n",
       "The argument must be an iterable if specified.\n",
       "\u001b[0;31mType:\u001b[0m           type\n",
       "\u001b[0;31mSubclasses:\u001b[0m     _HashedSeq, StackSummary, _Threads, ConvertingList, DeferredConfigList, _ymd, SList, _ImmutableLineList, FormattedText, NodeList, ..."
      ]
     },
     "metadata": {},
     "output_type": "display_data"
    }
   ],
   "source": [
    "list??"
   ]
  },
  {
   "cell_type": "code",
   "execution_count": null,
   "id": "de72c6a8-76de-4db9-bc54-d0f68b4af377",
   "metadata": {},
   "outputs": [],
   "source": []
  },
  {
   "cell_type": "code",
   "execution_count": null,
   "id": "065a87f8-1388-41ed-a18a-37c673f62dc4",
   "metadata": {},
   "outputs": [],
   "source": []
  }
 ],
 "metadata": {
  "kernelspec": {
   "display_name": "Python 3 (ipykernel)",
   "language": "python",
   "name": "python3"
  },
  "language_info": {
   "codemirror_mode": {
    "name": "ipython",
    "version": 3
   },
   "file_extension": ".py",
   "mimetype": "text/x-python",
   "name": "python",
   "nbconvert_exporter": "python",
   "pygments_lexer": "ipython3",
   "version": "3.10.12"
  }
 },
 "nbformat": 4,
 "nbformat_minor": 5
}
