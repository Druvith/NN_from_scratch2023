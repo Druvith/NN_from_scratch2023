{
 "cells": [
  {
   "cell_type": "code",
   "execution_count": 2,
   "id": "644ebc7f-d0fc-4b2f-bcbb-00f32fb1a0f8",
   "metadata": {},
   "outputs": [],
   "source": [
    "%matplotlib inline\n",
    "import math\n",
    "import time\n",
    "import numpy as np\n",
    "import torch\n",
    "from d2l import torch as d2l"
   ]
  },
  {
   "cell_type": "code",
   "execution_count": 3,
   "id": "ce0b0553-2c38-44ae-8284-b7c4fcdcbea0",
   "metadata": {},
   "outputs": [],
   "source": [
    "#linearity : expected value of target can be expressed as weighted sum of features"
   ]
  },
  {
   "cell_type": "code",
   "execution_count": null,
   "id": "884c9648-0a87-4eae-b0c9-1fc38164b512",
   "metadata": {},
   "outputs": [],
   "source": [
    "# ^ : denotes estimate"
   ]
  }
 ],
 "metadata": {
  "kernelspec": {
   "display_name": "Python 3 (ipykernel)",
   "language": "python",
   "name": "python3"
  },
  "language_info": {
   "codemirror_mode": {
    "name": "ipython",
    "version": 3
   },
   "file_extension": ".py",
   "mimetype": "text/x-python",
   "name": "python",
   "nbconvert_exporter": "python",
   "pygments_lexer": "ipython3",
   "version": "3.10.12"
  }
 },
 "nbformat": 4,
 "nbformat_minor": 5
}
