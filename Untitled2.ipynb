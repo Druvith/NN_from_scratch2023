{
 "cells": [
  {
   "cell_type": "code",
   "execution_count": 1,
   "id": "c87d5468-c327-465e-b65d-e81e365091c3",
   "metadata": {},
   "outputs": [],
   "source": [
    "%matplotlib inline\n",
    "import time\n",
    "import torch\n",
    "import torchvision\n",
    "from torchvision import transforms\n",
    "from d2l import torch as d2l\n",
    "\n",
    "d2l.use_svg_display()"
   ]
  },
  {
   "cell_type": "code",
   "execution_count": 2,
   "id": "8c3a2cca-e570-4d70-ac68-10bdd89d3369",
   "metadata": {},
   "outputs": [],
   "source": [
    "class FashionMNIST(d2l.DataModule):\n",
    "    def __init__(self, batch_size = 64, resize=(28,28)):\n",
    "        super().__init__()\n",
    "        self.save_hyperparameters()\n",
    "        trans = transforms.Compose([transforms.Resize(resize),\n",
    "        transforms.ToTensor()])\n",
    "        self.train = torchvision.datasets.FashionMNIST(root=self.root, train=True, transform=trans, download=True)\n",
    "        self.val = torchvision.datasets.FashionMNIST(root = self.root, train=False, transform=trans, download = True)\n",
    "        "
   ]
  },
  {
   "cell_type": "code",
   "execution_count": null,
   "id": "685bba30-181e-4c8b-81c2-55dd72bfd3a8",
   "metadata": {},
   "outputs": [],
   "source": [
    "data = FashionMNIST(resize"
   ]
  }
 ],
 "metadata": {
  "kernelspec": {
   "display_name": "Python 3 (ipykernel)",
   "language": "python",
   "name": "python3"
  },
  "language_info": {
   "codemirror_mode": {
    "name": "ipython",
    "version": 3
   },
   "file_extension": ".py",
   "mimetype": "text/x-python",
   "name": "python",
   "nbconvert_exporter": "python",
   "pygments_lexer": "ipython3",
   "version": "3.10.12"
  }
 },
 "nbformat": 4,
 "nbformat_minor": 5
}
